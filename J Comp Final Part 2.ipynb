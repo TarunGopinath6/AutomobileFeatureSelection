{
 "cells": [
  {
   "cell_type": "markdown",
   "metadata": {},
   "source": [
    "# Data Visualization\n",
    "\n",
    "## Large Car Dataset \n",
    "\n",
    "### Prediction of Car Sales by Model"
   ]
  },
  {
   "cell_type": "markdown",
   "metadata": {},
   "source": [
    "#### Initialization and Imports"
   ]
  },
  {
   "cell_type": "code",
   "execution_count": 323,
   "metadata": {},
   "outputs": [
    {
     "name": "stderr",
     "output_type": "stream",
     "text": [
      "C:\\Users\\cpani\\AppData\\Local\\Temp\\ipykernel_15248\\4080463895.py:8: DtypeWarning: Columns (1,8,9,17,18,22,25,26,32,37,45,53,65,67,69,79,91,93,107,111,113,120,122,133,144) have mixed types. Specify dtype option on import or set low_memory=False.\n",
      "  data = pd.read_csv(\"car_data.csv\")\n"
     ]
    },
    {
     "data": {
      "text/html": [
       "<div>\n",
       "<style scoped>\n",
       "    .dataframe tbody tr th:only-of-type {\n",
       "        vertical-align: middle;\n",
       "    }\n",
       "\n",
       "    .dataframe tbody tr th {\n",
       "        vertical-align: top;\n",
       "    }\n",
       "\n",
       "    .dataframe thead th {\n",
       "        text-align: right;\n",
       "    }\n",
       "</style>\n",
       "<table border=\"1\" class=\"dataframe\">\n",
       "  <thead>\n",
       "    <tr style=\"text-align: right;\">\n",
       "      <th></th>\n",
       "      <th>vin</th>\n",
       "      <th>stockNum</th>\n",
       "      <th>firstSeen</th>\n",
       "      <th>lastSeen</th>\n",
       "      <th>msrp</th>\n",
       "      <th>askPrice</th>\n",
       "      <th>mileage</th>\n",
       "      <th>isNew</th>\n",
       "      <th>color</th>\n",
       "      <th>interiorColor</th>\n",
       "      <th>...</th>\n",
       "      <th>vf_VIN</th>\n",
       "      <th>vf_ValveTrainDesign</th>\n",
       "      <th>vf_VehicleType</th>\n",
       "      <th>vf_WheelBaseLong</th>\n",
       "      <th>vf_WheelBaseShort</th>\n",
       "      <th>vf_WheelBaseType</th>\n",
       "      <th>vf_WheelSizeFront</th>\n",
       "      <th>vf_WheelSizeRear</th>\n",
       "      <th>vf_Wheels</th>\n",
       "      <th>vf_Windows</th>\n",
       "    </tr>\n",
       "  </thead>\n",
       "  <tbody>\n",
       "    <tr>\n",
       "      <th>0</th>\n",
       "      <td>abc5f0360059cf7b6fa8368db57f220ab0d87d582bf6ce...</td>\n",
       "      <td>11701A</td>\n",
       "      <td>2019-05-06</td>\n",
       "      <td>2019-05-06</td>\n",
       "      <td>1498</td>\n",
       "      <td>1498</td>\n",
       "      <td>0</td>\n",
       "      <td>False</td>\n",
       "      <td>Gray</td>\n",
       "      <td>NaN</td>\n",
       "      <td>...</td>\n",
       "      <td>abc5f0360059cf7b6fa8368db57f220ab0d87d582bf6ce...</td>\n",
       "      <td>NaN</td>\n",
       "      <td>PASSENGER CAR</td>\n",
       "      <td>NaN</td>\n",
       "      <td>NaN</td>\n",
       "      <td>NaN</td>\n",
       "      <td>NaN</td>\n",
       "      <td>NaN</td>\n",
       "      <td>NaN</td>\n",
       "      <td>NaN</td>\n",
       "    </tr>\n",
       "    <tr>\n",
       "      <th>1</th>\n",
       "      <td>e24402cc77f6fd2d6a9dd626ad92795b717814340f1ab1...</td>\n",
       "      <td>9055B</td>\n",
       "      <td>2019-05-06</td>\n",
       "      <td>2019-05-06</td>\n",
       "      <td>10589</td>\n",
       "      <td>10589</td>\n",
       "      <td>0</td>\n",
       "      <td>False</td>\n",
       "      <td>Super Black</td>\n",
       "      <td>NaN</td>\n",
       "      <td>...</td>\n",
       "      <td>e24402cc77f6fd2d6a9dd626ad92795b717814340f1ab1...</td>\n",
       "      <td>NaN</td>\n",
       "      <td>PASSENGER CAR</td>\n",
       "      <td>NaN</td>\n",
       "      <td>NaN</td>\n",
       "      <td>NaN</td>\n",
       "      <td>NaN</td>\n",
       "      <td>NaN</td>\n",
       "      <td>NaN</td>\n",
       "      <td>NaN</td>\n",
       "    </tr>\n",
       "    <tr>\n",
       "      <th>2</th>\n",
       "      <td>1c5a8dc966b3d3b379e10477d9ff8a8aa13edf43acc7f7...</td>\n",
       "      <td>11816A</td>\n",
       "      <td>2017-06-03</td>\n",
       "      <td>2019-05-07</td>\n",
       "      <td>11992</td>\n",
       "      <td>9940</td>\n",
       "      <td>0</td>\n",
       "      <td>False</td>\n",
       "      <td>White</td>\n",
       "      <td>NaN</td>\n",
       "      <td>...</td>\n",
       "      <td>1c5a8dc966b3d3b379e10477d9ff8a8aa13edf43acc7f7...</td>\n",
       "      <td>NaN</td>\n",
       "      <td>MULTIPURPOSE PASSENGER VEHICLE (MPV)</td>\n",
       "      <td>NaN</td>\n",
       "      <td>NaN</td>\n",
       "      <td>NaN</td>\n",
       "      <td>NaN</td>\n",
       "      <td>NaN</td>\n",
       "      <td>NaN</td>\n",
       "      <td>NaN</td>\n",
       "    </tr>\n",
       "    <tr>\n",
       "      <th>3</th>\n",
       "      <td>edce23814c88f5a1d1af700c27ad7f4c9d705aa9873317...</td>\n",
       "      <td>11847</td>\n",
       "      <td>2019-05-06</td>\n",
       "      <td>2019-05-07</td>\n",
       "      <td>12387</td>\n",
       "      <td>12387</td>\n",
       "      <td>0</td>\n",
       "      <td>False</td>\n",
       "      <td>Silver Ice Metallic</td>\n",
       "      <td>NaN</td>\n",
       "      <td>...</td>\n",
       "      <td>edce23814c88f5a1d1af700c27ad7f4c9d705aa9873317...</td>\n",
       "      <td>Dual Overhead Cam (DOHC)</td>\n",
       "      <td>PASSENGER CAR</td>\n",
       "      <td>NaN</td>\n",
       "      <td>106.3</td>\n",
       "      <td>NaN</td>\n",
       "      <td>17.0</td>\n",
       "      <td>17.0</td>\n",
       "      <td>4.0</td>\n",
       "      <td>4.0</td>\n",
       "    </tr>\n",
       "    <tr>\n",
       "      <th>4</th>\n",
       "      <td>6b4f8c610d14d864f024adb26cd4f0eddcff3fa18c16e3...</td>\n",
       "      <td>9097</td>\n",
       "      <td>2019-05-06</td>\n",
       "      <td>2019-05-07</td>\n",
       "      <td>41659</td>\n",
       "      <td>41659</td>\n",
       "      <td>0</td>\n",
       "      <td>True</td>\n",
       "      <td>Black Metallic</td>\n",
       "      <td>NaN</td>\n",
       "      <td>...</td>\n",
       "      <td>6b4f8c610d14d864f024adb26cd4f0eddcff3fa18c16e3...</td>\n",
       "      <td>NaN</td>\n",
       "      <td>TRUCK</td>\n",
       "      <td>156.8</td>\n",
       "      <td>145.0</td>\n",
       "      <td>NaN</td>\n",
       "      <td>17.0</td>\n",
       "      <td>17.0</td>\n",
       "      <td>4.0</td>\n",
       "      <td>NaN</td>\n",
       "    </tr>\n",
       "  </tbody>\n",
       "</table>\n",
       "<p>5 rows × 156 columns</p>\n",
       "</div>"
      ],
      "text/plain": [
       "                                                 vin stockNum   firstSeen  \\\n",
       "0  abc5f0360059cf7b6fa8368db57f220ab0d87d582bf6ce...   11701A  2019-05-06   \n",
       "1  e24402cc77f6fd2d6a9dd626ad92795b717814340f1ab1...    9055B  2019-05-06   \n",
       "2  1c5a8dc966b3d3b379e10477d9ff8a8aa13edf43acc7f7...   11816A  2017-06-03   \n",
       "3  edce23814c88f5a1d1af700c27ad7f4c9d705aa9873317...    11847  2019-05-06   \n",
       "4  6b4f8c610d14d864f024adb26cd4f0eddcff3fa18c16e3...     9097  2019-05-06   \n",
       "\n",
       "     lastSeen   msrp  askPrice  mileage  isNew                color  \\\n",
       "0  2019-05-06   1498      1498        0  False                 Gray   \n",
       "1  2019-05-06  10589     10589        0  False          Super Black   \n",
       "2  2019-05-07  11992      9940        0  False                White   \n",
       "3  2019-05-07  12387     12387        0  False  Silver Ice Metallic   \n",
       "4  2019-05-07  41659     41659        0   True       Black Metallic   \n",
       "\n",
       "  interiorColor  ...                                             vf_VIN  \\\n",
       "0           NaN  ...  abc5f0360059cf7b6fa8368db57f220ab0d87d582bf6ce...   \n",
       "1           NaN  ...  e24402cc77f6fd2d6a9dd626ad92795b717814340f1ab1...   \n",
       "2           NaN  ...  1c5a8dc966b3d3b379e10477d9ff8a8aa13edf43acc7f7...   \n",
       "3           NaN  ...  edce23814c88f5a1d1af700c27ad7f4c9d705aa9873317...   \n",
       "4           NaN  ...  6b4f8c610d14d864f024adb26cd4f0eddcff3fa18c16e3...   \n",
       "\n",
       "        vf_ValveTrainDesign                        vf_VehicleType  \\\n",
       "0                       NaN                         PASSENGER CAR   \n",
       "1                       NaN                         PASSENGER CAR   \n",
       "2                       NaN  MULTIPURPOSE PASSENGER VEHICLE (MPV)   \n",
       "3  Dual Overhead Cam (DOHC)                         PASSENGER CAR   \n",
       "4                       NaN                                TRUCK    \n",
       "\n",
       "  vf_WheelBaseLong vf_WheelBaseShort vf_WheelBaseType vf_WheelSizeFront  \\\n",
       "0              NaN               NaN              NaN               NaN   \n",
       "1              NaN               NaN              NaN               NaN   \n",
       "2              NaN               NaN              NaN               NaN   \n",
       "3              NaN             106.3              NaN              17.0   \n",
       "4            156.8             145.0              NaN              17.0   \n",
       "\n",
       "  vf_WheelSizeRear vf_Wheels vf_Windows  \n",
       "0              NaN       NaN        NaN  \n",
       "1              NaN       NaN        NaN  \n",
       "2              NaN       NaN        NaN  \n",
       "3             17.0       4.0        4.0  \n",
       "4             17.0       4.0        NaN  \n",
       "\n",
       "[5 rows x 156 columns]"
      ]
     },
     "execution_count": 323,
     "metadata": {},
     "output_type": "execute_result"
    }
   ],
   "source": [
    "import numpy as np\n",
    "import pandas as pd\n",
    "import matplotlib.pyplot as plt\n",
    "import seaborn as sns\n",
    "from sklearn.model_selection import train_test_split\n",
    "from sklearn.tree import DecisionTreeRegressor\n",
    "\n",
    "data = pd.read_csv(\"car_data.csv\")\n",
    "data.head()"
   ]
  },
  {
   "cell_type": "markdown",
   "metadata": {},
   "source": [
    "#### Understanding the Dataset"
   ]
  },
  {
   "cell_type": "code",
   "execution_count": null,
   "metadata": {},
   "outputs": [],
   "source": [
    "# Check for empty fields\n",
    "\n",
    "data.isnull().sum()"
   ]
  },
  {
   "cell_type": "code",
   "execution_count": null,
   "metadata": {},
   "outputs": [],
   "source": [
    "data.columns.values.tolist()"
   ]
  },
  {
   "cell_type": "code",
   "execution_count": null,
   "metadata": {},
   "outputs": [],
   "source": [
    "data.info()"
   ]
  },
  {
   "cell_type": "code",
   "execution_count": null,
   "metadata": {},
   "outputs": [],
   "source": [
    "print(data.describe())"
   ]
  },
  {
   "cell_type": "code",
   "execution_count": null,
   "metadata": {},
   "outputs": [],
   "source": [
    "plt.figure(figsize=(20, 15))\n",
    "correlations = data.corr()\n",
    "sns.heatmap(correlations, cmap=\"coolwarm\", annot=True)\n",
    "plt.show()"
   ]
  },
  {
   "cell_type": "markdown",
   "metadata": {},
   "source": [
    "##### Filtering Required Fields in Dataset"
   ]
  },
  {
   "cell_type": "code",
   "execution_count": null,
   "metadata": {},
   "outputs": [],
   "source": [
    "predict = \"askPrice\"\n",
    "dataFiltered = data[[\"askPrice\", 'mileage', 'isNew', 'color', 'interiorColor',\n",
    "            'brandName', 'vf_ABS', 'vf_AdaptiveCruiseControl', 'vf_AirBagLocFront',\n",
    "            'vf_AirBagLocSide', 'vf_BodyClass', 'vf_DriveType', 'vf_EngineCylinders',\n",
    "            'vf_EngineHP', 'vf_FuelTypePrimary', 'vf_Make', 'vf_Seats', 'vf_TopSpeedMPH',\n",
    "            'vf_TractionControl', 'vf_TransmissionSpeeds', 'vf_TransmissionStyle']]"
   ]
  },
  {
   "cell_type": "code",
   "execution_count": null,
   "metadata": {},
   "outputs": [],
   "source": [
    "dataFiltered.info()"
   ]
  },
  {
   "cell_type": "code",
   "execution_count": null,
   "metadata": {},
   "outputs": [],
   "source": [
    "dataFiltered.head()"
   ]
  },
  {
   "cell_type": "code",
   "execution_count": null,
   "metadata": {},
   "outputs": [],
   "source": [
    "dataFiltered.isnull().sum()"
   ]
  },
  {
   "cell_type": "code",
   "execution_count": null,
   "metadata": {},
   "outputs": [],
   "source": [
    "colorDf = pd.DataFrame(dataFiltered.color.value_counts()).reset_index().rename({'index': 'color', 'color': 'freq'}, axis=1) \n",
    "colorDf['ratio']  = (colorDf['freq']/len(dataFiltered))\n",
    "colorDf.head(10)"
   ]
  },
  {
   "cell_type": "code",
   "execution_count": null,
   "metadata": {},
   "outputs": [],
   "source": [
    "dataFiltered.to_csv('dataFiltered.csv', encoding='utf-8')"
   ]
  },
  {
   "cell_type": "markdown",
   "metadata": {},
   "source": [
    "#### NaN Removal and Replace"
   ]
  },
  {
   "cell_type": "code",
   "execution_count": null,
   "metadata": {},
   "outputs": [],
   "source": [
    "valuesToReplace = {'color': 'null', 'interiorColor': 'null', \n",
    "                   'brandName': 'null', 'vf_ABS': 'null', 'vf_AdaptiveCruiseControl': 'null',\n",
    "                   'vf_AirBagLocFront': 'null', 'vf_AirBagLocSide': 'null', \n",
    "                   'vf_BodyClass': 'null', 'vf_DriveType': 'null', \n",
    "                   'vf_EngineCylinders': 0, 'vf_EngineHP': 0, \n",
    "                   'vf_FuelTypePrimary': 'null', 'vf_Make': 'null', \n",
    "                   'vf_Seats': 0, 'vf_TopSpeedMPH': 0, 'vf_TractionControl': 'null',\n",
    "                   'vf_TransmissionSpeeds': 0, 'vf_TransmissionStyle': 'null',\n",
    "                  }\n",
    "dataCleaned = dataFiltered.fillna(value=valuesToReplace)"
   ]
  },
  {
   "cell_type": "code",
   "execution_count": null,
   "metadata": {},
   "outputs": [],
   "source": [
    "dataCleaned.isnull().sum()"
   ]
  },
  {
   "cell_type": "code",
   "execution_count": null,
   "metadata": {},
   "outputs": [],
   "source": [
    "dataCleaned.to_csv('dataCleaned.csv', encoding='utf-8')"
   ]
  },
  {
   "cell_type": "markdown",
   "metadata": {},
   "source": [
    "#### Data Tokenization and Encoding"
   ]
  },
  {
   "cell_type": "code",
   "execution_count": 164,
   "metadata": {},
   "outputs": [],
   "source": [
    "from sklearn.preprocessing import LabelEncoder\n",
    "\n",
    "dataCleaned = pd.read_csv(\"./dataCleaned.csv\", header=0, index_col=0)\n",
    "dataCleaned = pd.DataFrame(dataCleaned)"
   ]
  },
  {
   "cell_type": "code",
   "execution_count": 165,
   "metadata": {},
   "outputs": [
    {
     "name": "stdout",
     "output_type": "stream",
     "text": [
      "<class 'pandas.core.frame.DataFrame'>\n",
      "Int64Index: 5695015 entries, 0 to 5695014\n",
      "Data columns (total 21 columns):\n",
      " #   Column                    Dtype  \n",
      "---  ------                    -----  \n",
      " 0   askPrice                  int64  \n",
      " 1   mileage                   int64  \n",
      " 2   isNew                     bool   \n",
      " 3   color                     object \n",
      " 4   interiorColor             object \n",
      " 5   brandName                 object \n",
      " 6   vf_ABS                    object \n",
      " 7   vf_AdaptiveCruiseControl  object \n",
      " 8   vf_AirBagLocFront         object \n",
      " 9   vf_AirBagLocSide          object \n",
      " 10  vf_BodyClass              object \n",
      " 11  vf_DriveType              object \n",
      " 12  vf_EngineCylinders        float64\n",
      " 13  vf_EngineHP               float64\n",
      " 14  vf_FuelTypePrimary        object \n",
      " 15  vf_Make                   object \n",
      " 16  vf_Seats                  float64\n",
      " 17  vf_TopSpeedMPH            float64\n",
      " 18  vf_TractionControl        object \n",
      " 19  vf_TransmissionSpeeds     float64\n",
      " 20  vf_TransmissionStyle      object \n",
      "dtypes: bool(1), float64(5), int64(2), object(13)\n",
      "memory usage: 917.9+ MB\n"
     ]
    }
   ],
   "source": [
    "dataCleaned.info()"
   ]
  },
  {
   "cell_type": "code",
   "execution_count": 166,
   "metadata": {},
   "outputs": [],
   "source": [
    "# Get all numerical types of data first, convert Bool to Int\n",
    "dataPrePro = dataCleaned.filter(['askPrice', 'mileage', \n",
    "                                 'vf_EngineCylinders', 'vf_EngineHP', 'vf_Seats',\n",
    "                                 'vf_TopSpeedMPH', 'vf_TransmissionSpeeds', 'isNew'])\n",
    "dataPrePro['isNew'] = dataPrePro['isNew'].astype(int)"
   ]
  },
  {
   "cell_type": "code",
   "execution_count": 167,
   "metadata": {},
   "outputs": [],
   "source": [
    "LE = LabelEncoder()"
   ]
  },
  {
   "cell_type": "code",
   "execution_count": 168,
   "metadata": {},
   "outputs": [],
   "source": [
    "dataTypes = dataCleaned.columns.to_series().groupby(dataCleaned.dtypes).groups"
   ]
  },
  {
   "cell_type": "code",
   "execution_count": 169,
   "metadata": {},
   "outputs": [],
   "source": [
    "dataTypesDict = {k.name:v for k,v in dataTypes.items()}\n",
    "objectTypeCols = dataTypesDict['object'].tolist()"
   ]
  },
  {
   "cell_type": "code",
   "execution_count": 211,
   "metadata": {},
   "outputs": [],
   "source": [
    "inverses = {}\n",
    "\n",
    "for col in objectTypeCols:\n",
    "    dataPrePro[col] = LE.fit_transform(dataCleaned[col]).astype('int64')\n",
    "    inverses[col] = (LE.fit(dataCleaned[col]), LE.classes_)"
   ]
  },
  {
   "cell_type": "code",
   "execution_count": 172,
   "metadata": {},
   "outputs": [
    {
     "data": {
      "text/html": [
       "<div>\n",
       "<style scoped>\n",
       "    .dataframe tbody tr th:only-of-type {\n",
       "        vertical-align: middle;\n",
       "    }\n",
       "\n",
       "    .dataframe tbody tr th {\n",
       "        vertical-align: top;\n",
       "    }\n",
       "\n",
       "    .dataframe thead th {\n",
       "        text-align: right;\n",
       "    }\n",
       "</style>\n",
       "<table border=\"1\" class=\"dataframe\">\n",
       "  <thead>\n",
       "    <tr style=\"text-align: right;\">\n",
       "      <th></th>\n",
       "      <th>askPrice</th>\n",
       "      <th>mileage</th>\n",
       "      <th>vf_EngineCylinders</th>\n",
       "      <th>vf_EngineHP</th>\n",
       "      <th>vf_Seats</th>\n",
       "      <th>vf_TopSpeedMPH</th>\n",
       "      <th>vf_TransmissionSpeeds</th>\n",
       "      <th>isNew</th>\n",
       "      <th>color</th>\n",
       "      <th>interiorColor</th>\n",
       "      <th>...</th>\n",
       "      <th>vf_ABS</th>\n",
       "      <th>vf_AdaptiveCruiseControl</th>\n",
       "      <th>vf_AirBagLocFront</th>\n",
       "      <th>vf_AirBagLocSide</th>\n",
       "      <th>vf_BodyClass</th>\n",
       "      <th>vf_DriveType</th>\n",
       "      <th>vf_FuelTypePrimary</th>\n",
       "      <th>vf_Make</th>\n",
       "      <th>vf_TractionControl</th>\n",
       "      <th>vf_TransmissionStyle</th>\n",
       "    </tr>\n",
       "  </thead>\n",
       "  <tbody>\n",
       "    <tr>\n",
       "      <th>0</th>\n",
       "      <td>1498</td>\n",
       "      <td>0</td>\n",
       "      <td>0.0</td>\n",
       "      <td>0.0</td>\n",
       "      <td>0.0</td>\n",
       "      <td>0.0</td>\n",
       "      <td>0.0</td>\n",
       "      <td>0</td>\n",
       "      <td>7752</td>\n",
       "      <td>18610</td>\n",
       "      <td>...</td>\n",
       "      <td>3</td>\n",
       "      <td>3</td>\n",
       "      <td>0</td>\n",
       "      <td>7</td>\n",
       "      <td>2</td>\n",
       "      <td>10</td>\n",
       "      <td>10</td>\n",
       "      <td>76</td>\n",
       "      <td>3</td>\n",
       "      <td>7</td>\n",
       "    </tr>\n",
       "    <tr>\n",
       "      <th>1</th>\n",
       "      <td>10589</td>\n",
       "      <td>0</td>\n",
       "      <td>4.0</td>\n",
       "      <td>0.0</td>\n",
       "      <td>0.0</td>\n",
       "      <td>0.0</td>\n",
       "      <td>0.0</td>\n",
       "      <td>0</td>\n",
       "      <td>16196</td>\n",
       "      <td>18610</td>\n",
       "      <td>...</td>\n",
       "      <td>3</td>\n",
       "      <td>3</td>\n",
       "      <td>0</td>\n",
       "      <td>2</td>\n",
       "      <td>33</td>\n",
       "      <td>3</td>\n",
       "      <td>6</td>\n",
       "      <td>78</td>\n",
       "      <td>3</td>\n",
       "      <td>7</td>\n",
       "    </tr>\n",
       "    <tr>\n",
       "      <th>2</th>\n",
       "      <td>9940</td>\n",
       "      <td>0</td>\n",
       "      <td>4.0</td>\n",
       "      <td>178.0</td>\n",
       "      <td>0.0</td>\n",
       "      <td>0.0</td>\n",
       "      <td>0.0</td>\n",
       "      <td>0</td>\n",
       "      <td>17482</td>\n",
       "      <td>18610</td>\n",
       "      <td>...</td>\n",
       "      <td>3</td>\n",
       "      <td>3</td>\n",
       "      <td>0</td>\n",
       "      <td>1</td>\n",
       "      <td>35</td>\n",
       "      <td>3</td>\n",
       "      <td>6</td>\n",
       "      <td>31</td>\n",
       "      <td>3</td>\n",
       "      <td>7</td>\n",
       "    </tr>\n",
       "    <tr>\n",
       "      <th>3</th>\n",
       "      <td>12387</td>\n",
       "      <td>0</td>\n",
       "      <td>4.0</td>\n",
       "      <td>0.0</td>\n",
       "      <td>5.0</td>\n",
       "      <td>130.0</td>\n",
       "      <td>0.0</td>\n",
       "      <td>0</td>\n",
       "      <td>15047</td>\n",
       "      <td>18610</td>\n",
       "      <td>...</td>\n",
       "      <td>2</td>\n",
       "      <td>3</td>\n",
       "      <td>0</td>\n",
       "      <td>1</td>\n",
       "      <td>33</td>\n",
       "      <td>10</td>\n",
       "      <td>6</td>\n",
       "      <td>11</td>\n",
       "      <td>2</td>\n",
       "      <td>1</td>\n",
       "    </tr>\n",
       "    <tr>\n",
       "      <th>4</th>\n",
       "      <td>41659</td>\n",
       "      <td>0</td>\n",
       "      <td>8.0</td>\n",
       "      <td>395.0</td>\n",
       "      <td>6.0</td>\n",
       "      <td>0.0</td>\n",
       "      <td>0.0</td>\n",
       "      <td>1</td>\n",
       "      <td>2398</td>\n",
       "      <td>18610</td>\n",
       "      <td>...</td>\n",
       "      <td>2</td>\n",
       "      <td>3</td>\n",
       "      <td>0</td>\n",
       "      <td>1</td>\n",
       "      <td>31</td>\n",
       "      <td>2</td>\n",
       "      <td>6</td>\n",
       "      <td>31</td>\n",
       "      <td>2</td>\n",
       "      <td>1</td>\n",
       "    </tr>\n",
       "  </tbody>\n",
       "</table>\n",
       "<p>5 rows × 21 columns</p>\n",
       "</div>"
      ],
      "text/plain": [
       "   askPrice  mileage  vf_EngineCylinders  vf_EngineHP  vf_Seats  \\\n",
       "0      1498        0                 0.0          0.0       0.0   \n",
       "1     10589        0                 4.0          0.0       0.0   \n",
       "2      9940        0                 4.0        178.0       0.0   \n",
       "3     12387        0                 4.0          0.0       5.0   \n",
       "4     41659        0                 8.0        395.0       6.0   \n",
       "\n",
       "   vf_TopSpeedMPH  vf_TransmissionSpeeds  isNew  color  interiorColor  ...  \\\n",
       "0             0.0                    0.0      0   7752          18610  ...   \n",
       "1             0.0                    0.0      0  16196          18610  ...   \n",
       "2             0.0                    0.0      0  17482          18610  ...   \n",
       "3           130.0                    0.0      0  15047          18610  ...   \n",
       "4             0.0                    0.0      1   2398          18610  ...   \n",
       "\n",
       "   vf_ABS  vf_AdaptiveCruiseControl  vf_AirBagLocFront  vf_AirBagLocSide  \\\n",
       "0       3                         3                  0                 7   \n",
       "1       3                         3                  0                 2   \n",
       "2       3                         3                  0                 1   \n",
       "3       2                         3                  0                 1   \n",
       "4       2                         3                  0                 1   \n",
       "\n",
       "   vf_BodyClass  vf_DriveType  vf_FuelTypePrimary  vf_Make  \\\n",
       "0             2            10                  10       76   \n",
       "1            33             3                   6       78   \n",
       "2            35             3                   6       31   \n",
       "3            33            10                   6       11   \n",
       "4            31             2                   6       31   \n",
       "\n",
       "   vf_TractionControl  vf_TransmissionStyle  \n",
       "0                   3                     7  \n",
       "1                   3                     7  \n",
       "2                   3                     7  \n",
       "3                   2                     1  \n",
       "4                   2                     1  \n",
       "\n",
       "[5 rows x 21 columns]"
      ]
     },
     "execution_count": 172,
     "metadata": {},
     "output_type": "execute_result"
    }
   ],
   "source": [
    "dataPrePro.head()"
   ]
  },
  {
   "cell_type": "code",
   "execution_count": null,
   "metadata": {},
   "outputs": [],
   "source": [
    "dataPrePro['isNew'] = dataPrePro['isNew'].astype('int64')"
   ]
  },
  {
   "cell_type": "code",
   "execution_count": null,
   "metadata": {},
   "outputs": [],
   "source": [
    "dataPrePro.info()"
   ]
  },
  {
   "cell_type": "code",
   "execution_count": null,
   "metadata": {},
   "outputs": [],
   "source": [
    "dataPrePro.to_csv('dataPrePro.csv', encoding='utf-8')"
   ]
  },
  {
   "cell_type": "markdown",
   "metadata": {},
   "source": [
    "##### Data Split\n",
    "\n",
    "Split data into training and testing via a 20% split"
   ]
  },
  {
   "cell_type": "code",
   "execution_count": 1,
   "metadata": {},
   "outputs": [],
   "source": [
    "import pandas as pd\n",
    "\n",
    "dataPrePro = pd.read_csv(\"./dataPrePro.csv\", header=0, index_col=0)\n",
    "dataPrePro = pd.DataFrame(dataPrePro)"
   ]
  },
  {
   "cell_type": "code",
   "execution_count": 2,
   "metadata": {},
   "outputs": [
    {
     "data": {
      "text/html": [
       "<div>\n",
       "<style scoped>\n",
       "    .dataframe tbody tr th:only-of-type {\n",
       "        vertical-align: middle;\n",
       "    }\n",
       "\n",
       "    .dataframe tbody tr th {\n",
       "        vertical-align: top;\n",
       "    }\n",
       "\n",
       "    .dataframe thead th {\n",
       "        text-align: right;\n",
       "    }\n",
       "</style>\n",
       "<table border=\"1\" class=\"dataframe\">\n",
       "  <thead>\n",
       "    <tr style=\"text-align: right;\">\n",
       "      <th></th>\n",
       "      <th>askPrice</th>\n",
       "      <th>mileage</th>\n",
       "      <th>vf_EngineCylinders</th>\n",
       "      <th>vf_EngineHP</th>\n",
       "      <th>vf_Seats</th>\n",
       "      <th>vf_TopSpeedMPH</th>\n",
       "      <th>vf_TransmissionSpeeds</th>\n",
       "      <th>isNew</th>\n",
       "      <th>color</th>\n",
       "      <th>interiorColor</th>\n",
       "      <th>...</th>\n",
       "      <th>vf_ABS</th>\n",
       "      <th>vf_AdaptiveCruiseControl</th>\n",
       "      <th>vf_AirBagLocFront</th>\n",
       "      <th>vf_AirBagLocSide</th>\n",
       "      <th>vf_BodyClass</th>\n",
       "      <th>vf_DriveType</th>\n",
       "      <th>vf_FuelTypePrimary</th>\n",
       "      <th>vf_Make</th>\n",
       "      <th>vf_TractionControl</th>\n",
       "      <th>vf_TransmissionStyle</th>\n",
       "    </tr>\n",
       "  </thead>\n",
       "  <tbody>\n",
       "    <tr>\n",
       "      <th>0</th>\n",
       "      <td>1498</td>\n",
       "      <td>0</td>\n",
       "      <td>0.0</td>\n",
       "      <td>0.0</td>\n",
       "      <td>0.0</td>\n",
       "      <td>0.0</td>\n",
       "      <td>0.0</td>\n",
       "      <td>0</td>\n",
       "      <td>7752</td>\n",
       "      <td>18610</td>\n",
       "      <td>...</td>\n",
       "      <td>3</td>\n",
       "      <td>3</td>\n",
       "      <td>0</td>\n",
       "      <td>7</td>\n",
       "      <td>2</td>\n",
       "      <td>10</td>\n",
       "      <td>10</td>\n",
       "      <td>76</td>\n",
       "      <td>3</td>\n",
       "      <td>7</td>\n",
       "    </tr>\n",
       "    <tr>\n",
       "      <th>1</th>\n",
       "      <td>10589</td>\n",
       "      <td>0</td>\n",
       "      <td>4.0</td>\n",
       "      <td>0.0</td>\n",
       "      <td>0.0</td>\n",
       "      <td>0.0</td>\n",
       "      <td>0.0</td>\n",
       "      <td>0</td>\n",
       "      <td>16196</td>\n",
       "      <td>18610</td>\n",
       "      <td>...</td>\n",
       "      <td>3</td>\n",
       "      <td>3</td>\n",
       "      <td>0</td>\n",
       "      <td>2</td>\n",
       "      <td>33</td>\n",
       "      <td>3</td>\n",
       "      <td>6</td>\n",
       "      <td>78</td>\n",
       "      <td>3</td>\n",
       "      <td>7</td>\n",
       "    </tr>\n",
       "    <tr>\n",
       "      <th>2</th>\n",
       "      <td>9940</td>\n",
       "      <td>0</td>\n",
       "      <td>4.0</td>\n",
       "      <td>178.0</td>\n",
       "      <td>0.0</td>\n",
       "      <td>0.0</td>\n",
       "      <td>0.0</td>\n",
       "      <td>0</td>\n",
       "      <td>17482</td>\n",
       "      <td>18610</td>\n",
       "      <td>...</td>\n",
       "      <td>3</td>\n",
       "      <td>3</td>\n",
       "      <td>0</td>\n",
       "      <td>1</td>\n",
       "      <td>35</td>\n",
       "      <td>3</td>\n",
       "      <td>6</td>\n",
       "      <td>31</td>\n",
       "      <td>3</td>\n",
       "      <td>7</td>\n",
       "    </tr>\n",
       "    <tr>\n",
       "      <th>3</th>\n",
       "      <td>12387</td>\n",
       "      <td>0</td>\n",
       "      <td>4.0</td>\n",
       "      <td>0.0</td>\n",
       "      <td>5.0</td>\n",
       "      <td>130.0</td>\n",
       "      <td>0.0</td>\n",
       "      <td>0</td>\n",
       "      <td>15047</td>\n",
       "      <td>18610</td>\n",
       "      <td>...</td>\n",
       "      <td>2</td>\n",
       "      <td>3</td>\n",
       "      <td>0</td>\n",
       "      <td>1</td>\n",
       "      <td>33</td>\n",
       "      <td>10</td>\n",
       "      <td>6</td>\n",
       "      <td>11</td>\n",
       "      <td>2</td>\n",
       "      <td>1</td>\n",
       "    </tr>\n",
       "    <tr>\n",
       "      <th>4</th>\n",
       "      <td>41659</td>\n",
       "      <td>0</td>\n",
       "      <td>8.0</td>\n",
       "      <td>395.0</td>\n",
       "      <td>6.0</td>\n",
       "      <td>0.0</td>\n",
       "      <td>0.0</td>\n",
       "      <td>1</td>\n",
       "      <td>2398</td>\n",
       "      <td>18610</td>\n",
       "      <td>...</td>\n",
       "      <td>2</td>\n",
       "      <td>3</td>\n",
       "      <td>0</td>\n",
       "      <td>1</td>\n",
       "      <td>31</td>\n",
       "      <td>2</td>\n",
       "      <td>6</td>\n",
       "      <td>31</td>\n",
       "      <td>2</td>\n",
       "      <td>1</td>\n",
       "    </tr>\n",
       "  </tbody>\n",
       "</table>\n",
       "<p>5 rows × 21 columns</p>\n",
       "</div>"
      ],
      "text/plain": [
       "   askPrice  mileage  vf_EngineCylinders  vf_EngineHP  vf_Seats  \\\n",
       "0      1498        0                 0.0          0.0       0.0   \n",
       "1     10589        0                 4.0          0.0       0.0   \n",
       "2      9940        0                 4.0        178.0       0.0   \n",
       "3     12387        0                 4.0          0.0       5.0   \n",
       "4     41659        0                 8.0        395.0       6.0   \n",
       "\n",
       "   vf_TopSpeedMPH  vf_TransmissionSpeeds  isNew  color  interiorColor  ...  \\\n",
       "0             0.0                    0.0      0   7752          18610  ...   \n",
       "1             0.0                    0.0      0  16196          18610  ...   \n",
       "2             0.0                    0.0      0  17482          18610  ...   \n",
       "3           130.0                    0.0      0  15047          18610  ...   \n",
       "4             0.0                    0.0      1   2398          18610  ...   \n",
       "\n",
       "   vf_ABS  vf_AdaptiveCruiseControl  vf_AirBagLocFront  vf_AirBagLocSide  \\\n",
       "0       3                         3                  0                 7   \n",
       "1       3                         3                  0                 2   \n",
       "2       3                         3                  0                 1   \n",
       "3       2                         3                  0                 1   \n",
       "4       2                         3                  0                 1   \n",
       "\n",
       "   vf_BodyClass  vf_DriveType  vf_FuelTypePrimary  vf_Make  \\\n",
       "0             2            10                  10       76   \n",
       "1            33             3                   6       78   \n",
       "2            35             3                   6       31   \n",
       "3            33            10                   6       11   \n",
       "4            31             2                   6       31   \n",
       "\n",
       "   vf_TractionControl  vf_TransmissionStyle  \n",
       "0                   3                     7  \n",
       "1                   3                     7  \n",
       "2                   3                     7  \n",
       "3                   2                     1  \n",
       "4                   2                     1  \n",
       "\n",
       "[5 rows x 21 columns]"
      ]
     },
     "execution_count": 2,
     "metadata": {},
     "output_type": "execute_result"
    }
   ],
   "source": [
    "dataPrePro.head()"
   ]
  },
  {
   "cell_type": "code",
   "execution_count": null,
   "metadata": {},
   "outputs": [],
   "source": []
  },
  {
   "cell_type": "code",
   "execution_count": 3,
   "metadata": {},
   "outputs": [],
   "source": [
    "df_sample = dataPrePro.groupby(\"askPrice\", group_keys=False).apply(lambda x:x.sample(frac=0.01))"
   ]
  },
  {
   "cell_type": "code",
   "execution_count": 4,
   "metadata": {},
   "outputs": [
    {
     "name": "stderr",
     "output_type": "stream",
     "text": [
      "C:\\Users\\cpani\\AppData\\Local\\Temp\\ipykernel_15248\\3206343411.py:3: FutureWarning: In a future version of pandas all arguments of DataFrame.drop except for the argument 'labels' will be keyword-only.\n",
      "  x = np.array(df_sample.drop([predict], 1))\n"
     ]
    }
   ],
   "source": [
    "predict = 'askPrice'\n",
    "\n",
    "x = np.array(df_sample.drop([predict], 1))\n",
    "y = np.array(df_sample[predict])"
   ]
  },
  {
   "cell_type": "code",
   "execution_count": 5,
   "metadata": {},
   "outputs": [],
   "source": [
    "from sklearn.model_selection import train_test_split\n",
    "xtrain, xtest, ytrain, ytest = train_test_split(x, y, test_size=0.2)"
   ]
  },
  {
   "cell_type": "code",
   "execution_count": 6,
   "metadata": {},
   "outputs": [
    {
     "data": {
      "text/plain": [
       "array([[0.00000e+00, 6.00000e+00, 2.83000e+02, ..., 5.50000e+01,\n",
       "        3.00000e+00, 7.00000e+00],\n",
       "       [1.43488e+05, 8.00000e+00, 0.00000e+00, ..., 3.60000e+01,\n",
       "        3.00000e+00, 7.00000e+00],\n",
       "       [0.00000e+00, 6.00000e+00, 2.80000e+02, ..., 4.40000e+01,\n",
       "        3.00000e+00, 1.00000e+00],\n",
       "       ...,\n",
       "       [7.29400e+04, 4.00000e+00, 1.70000e+02, ..., 3.10000e+01,\n",
       "        2.00000e+00, 7.00000e+00],\n",
       "       [0.00000e+00, 4.00000e+00, 1.73000e+02, ..., 2.00000e+01,\n",
       "        2.00000e+00, 1.00000e+00],\n",
       "       [4.03620e+04, 4.00000e+00, 2.40000e+02, ..., 1.06000e+02,\n",
       "        3.00000e+00, 7.00000e+00]])"
      ]
     },
     "execution_count": 6,
     "metadata": {},
     "output_type": "execute_result"
    }
   ],
   "source": [
    "xtrain"
   ]
  },
  {
   "cell_type": "code",
   "execution_count": 7,
   "metadata": {},
   "outputs": [
    {
     "data": {
      "text/plain": [
       "Index(['mileage', 'vf_EngineCylinders', 'vf_EngineHP', 'vf_Seats',\n",
       "       'vf_TopSpeedMPH', 'vf_TransmissionSpeeds', 'isNew', 'color',\n",
       "       'interiorColor', 'brandName', 'vf_ABS', 'vf_AdaptiveCruiseControl',\n",
       "       'vf_AirBagLocFront', 'vf_AirBagLocSide', 'vf_BodyClass', 'vf_DriveType',\n",
       "       'vf_FuelTypePrimary', 'vf_Make', 'vf_TractionControl',\n",
       "       'vf_TransmissionStyle'],\n",
       "      dtype='object')"
      ]
     },
     "execution_count": 7,
     "metadata": {},
     "output_type": "execute_result"
    }
   ],
   "source": [
    " df_sample.columns[1:]"
   ]
  },
  {
   "cell_type": "code",
   "execution_count": 8,
   "metadata": {},
   "outputs": [
    {
     "name": "stdout",
     "output_type": "stream",
     "text": [
      "Index(['askPrice', 'mileage', 'vf_EngineCylinders', 'vf_EngineHP', 'vf_Seats',\n",
      "       'vf_TopSpeedMPH', 'vf_TransmissionSpeeds', 'isNew', 'color',\n",
      "       'interiorColor', 'brandName', 'vf_ABS', 'vf_AdaptiveCruiseControl',\n",
      "       'vf_AirBagLocFront', 'vf_AirBagLocSide', 'vf_BodyClass', 'vf_DriveType',\n",
      "       'vf_FuelTypePrimary', 'vf_Make', 'vf_TractionControl',\n",
      "       'vf_TransmissionStyle'],\n",
      "      dtype='object')\n"
     ]
    },
    {
     "data": {
      "image/png": "[encoded data removed]",
      "text/plain": [
       "<Figure size 432x288 with 1 Axes>"
      ]
     },
     "metadata": {
      "needs_background": "light"
     },
     "output_type": "display_data"
    }
   ],
   "source": [
    "from sklearn.feature_selection import mutual_info_regression\n",
    "import matplotlib.pyplot as plt\n",
    "%matplotlib inline\n",
    "\n",
    "imp = mutual_info_regression(xtrain, ytrain)\n",
    "print(df_sample.columns)\n",
    "fimp = pd.Series(imp, df_sample.columns[1:])\n",
    "fimp.plot(kind=\"barh\",)\n",
    "plt.show()"
   ]
  },
  {
   "cell_type": "code",
   "execution_count": 19,
   "metadata": {},
   "outputs": [
    {
     "name": "stdout",
     "output_type": "stream",
     "text": [
      "Collecting skfeature-chappers\n",
      "  Downloading skfeature_chappers-1.1.0-py3-none-any.whl (66 kB)\n",
      "     -------------------------------------- 66.3/66.3 kB 890.3 kB/s eta 0:00:00\n",
      "Requirement already satisfied: pandas in c:\\users\\cpani\\appdata\\local\\programs\\python\\python310\\lib\\site-packages (from skfeature-chappers) (1.4.2)\n",
      "Requirement already satisfied: numpy in c:\\users\\cpani\\appdata\\local\\programs\\python\\python310\\lib\\site-packages (from skfeature-chappers) (1.22.3)\n",
      "Requirement already satisfied: scikit-learn in c:\\users\\cpani\\appdata\\local\\programs\\python\\python310\\lib\\site-packages (from skfeature-chappers) (1.1.1)\n",
      "Requirement already satisfied: pytz>=2020.1 in c:\\users\\cpani\\appdata\\local\\programs\\python\\python310\\lib\\site-packages (from pandas->skfeature-chappers) (2022.1)\n",
      "Requirement already satisfied: python-dateutil>=2.8.1 in c:\\users\\cpani\\appdata\\local\\programs\\python\\python310\\lib\\site-packages (from pandas->skfeature-chappers) (2.8.2)\n",
      "Requirement already satisfied: scipy>=1.3.2 in c:\\users\\cpani\\appdata\\local\\programs\\python\\python310\\lib\\site-packages (from scikit-learn->skfeature-chappers) (1.8.0)\n",
      "Requirement already satisfied: threadpoolctl>=2.0.0 in c:\\users\\cpani\\appdata\\local\\programs\\python\\python310\\lib\\site-packages (from scikit-learn->skfeature-chappers) (3.1.0)\n",
      "Requirement already satisfied: joblib>=1.0.0 in c:\\users\\cpani\\appdata\\local\\programs\\python\\python310\\lib\\site-packages (from scikit-learn->skfeature-chappers) (1.1.0)\n",
      "Requirement already satisfied: six>=1.5 in c:\\users\\cpani\\appdata\\local\\programs\\python\\python310\\lib\\site-packages (from python-dateutil>=2.8.1->pandas->skfeature-chappers) (1.14.0)\n",
      "Installing collected packages: skfeature-chappers\n",
      "Successfully installed skfeature-chappers-1.1.0\n"
     ]
    },
    {
     "name": "stderr",
     "output_type": "stream",
     "text": [
      "WARNING: There was an error checking the latest version of pip.\n"
     ]
    }
   ],
   "source": [
    "!pip install skfeature-chappers"
   ]
  },
  {
   "cell_type": "code",
   "execution_count": 9,
   "metadata": {},
   "outputs": [
    {
     "name": "stderr",
     "output_type": "stream",
     "text": [
      "\n",
      "KeyboardInterrupt\n",
      "\n"
     ]
    }
   ],
   "source": [
    "from skfeature.function.similarity_based import fisher_score\n",
    "import matplotlib.pyplot as plt\n",
    "%matplotlib inline\n",
    "\n",
    "imp = fisher_score.fisher_score(xtrain, ytrain)\n",
    "fimp = pd.Series(imp, df_sample.columns[1:])\n",
    "fimp.plot(kind=\"barh\",)\n",
    "plt.show()"
   ]
  },
  {
   "cell_type": "markdown",
   "metadata": {},
   "source": [
    "### Models"
   ]
  },
  {
   "cell_type": "markdown",
   "metadata": {},
   "source": [
    "##### Decision Tree Regression"
   ]
  },
  {
   "cell_type": "code",
   "execution_count": 10,
   "metadata": {},
   "outputs": [
    {
     "data": {
      "text/plain": [
       "1.0"
      ]
     },
     "execution_count": 10,
     "metadata": {},
     "output_type": "execute_result"
    }
   ],
   "source": [
    "from sklearn.tree import DecisionTreeRegressor\n",
    "modelDTree = DecisionTreeRegressor()\n",
    "modelDTree.fit(xtrain, ytrain)\n",
    "predictionsDTree = modelDTree.predict(xtest)\n",
    "\n",
    "from sklearn.metrics import mean_absolute_error\n",
    "modelDTree.score(xtest, predictionsDTree)"
   ]
  },
  {
   "cell_type": "code",
   "execution_count": 11,
   "metadata": {},
   "outputs": [
    {
     "name": "stdout",
     "output_type": "stream",
     "text": [
      "Feature: 0, Score: 0.84020\n",
      "Feature: 1, Score: 0.00009\n",
      "Feature: 2, Score: 0.00000\n",
      "Feature: 3, Score: 0.00091\n",
      "Feature: 4, Score: 0.00000\n",
      "Feature: 5, Score: 0.00000\n",
      "Feature: 6, Score: 0.00000\n",
      "Feature: 7, Score: 0.09411\n",
      "Feature: 8, Score: 0.00000\n",
      "Feature: 9, Score: 0.00405\n",
      "Feature: 10, Score: 0.00000\n",
      "Feature: 11, Score: 0.00000\n",
      "Feature: 12, Score: 0.00016\n",
      "Feature: 13, Score: 0.00000\n",
      "Feature: 14, Score: 0.00044\n",
      "Feature: 15, Score: 0.06004\n",
      "Feature: 16, Score: 0.00000\n",
      "Feature: 17, Score: 0.00000\n",
      "Feature: 18, Score: 0.00000\n",
      "Feature: 19, Score: 0.00000\n"
     ]
    },
    {
     "data": {
      "image/png": "[encoded data removed]",
      "text/plain": [
       "<Figure size 432x288 with 1 Axes>"
      ]
     },
     "metadata": {
      "needs_background": "light"
     },
     "output_type": "display_data"
    }
   ],
   "source": [
    "importance = modelDTree.feature_importances_\n",
    "# summarize feature importance\n",
    "for i,v in enumerate(importance):\n",
    " print('Feature: %0d, Score: %.5f' % (i,v))\n",
    "# plot feature importance\n",
    "#pyplot.bar([x for x in range(len(importance))], importance)\n",
    "#pyplot.show()\n",
    "\n",
    "fimp = pd.Series(importance, df_sample.columns[1:])\n",
    "fimp.plot(kind=\"barh\",)\n",
    "plt.show()"
   ]
  },
  {
   "cell_type": "markdown",
   "metadata": {},
   "source": [
    "#### Adaboost Regression Model"
   ]
  },
  {
   "cell_type": "code",
   "execution_count": 12,
   "metadata": {},
   "outputs": [
    {
     "data": {
      "text/plain": [
       "1.0"
      ]
     },
     "execution_count": 12,
     "metadata": {},
     "output_type": "execute_result"
    }
   ],
   "source": [
    "from sklearn.ensemble import AdaBoostRegressor\n",
    "\n",
    "#Choosing Decision Tree with 1 level as the weak learner\n",
    "DTR=DecisionTreeRegressor(max_depth=1)\n",
    "AdaRegModel = AdaBoostRegressor(n_estimators=50, base_estimator=DTR ,learning_rate=1)\n",
    " \n",
    "#Creating the model on Training Data\n",
    "AdaboostModel=AdaRegModel.fit(xtrain, ytrain)\n",
    "predictionsAda = AdaboostModel.predict(xtest)\n",
    "\n",
    "AdaboostModel.score(xtest, predictionsAda)"
   ]
  },
  {
   "cell_type": "code",
   "execution_count": 13,
   "metadata": {},
   "outputs": [
    {
     "name": "stdout",
     "output_type": "stream",
     "text": [
      "Feature: 0, Score: 0.00000\n",
      "Feature: 1, Score: 1.00000\n",
      "Feature: 2, Score: 0.00000\n",
      "Feature: 3, Score: 0.00000\n",
      "Feature: 4, Score: 0.00000\n",
      "Feature: 5, Score: 0.00000\n",
      "Feature: 6, Score: 0.00000\n",
      "Feature: 7, Score: 0.00000\n",
      "Feature: 8, Score: 0.00000\n",
      "Feature: 9, Score: 0.00000\n",
      "Feature: 10, Score: 0.00000\n",
      "Feature: 11, Score: 0.00000\n",
      "Feature: 12, Score: 0.00000\n",
      "Feature: 13, Score: 0.00000\n",
      "Feature: 14, Score: 0.00000\n",
      "Feature: 15, Score: 0.00000\n",
      "Feature: 16, Score: 0.00000\n",
      "Feature: 17, Score: 0.00000\n",
      "Feature: 18, Score: 0.00000\n",
      "Feature: 19, Score: 0.00000\n"
     ]
    },
    {
     "data": {
      "image/png": "[encoded data removed]",
      "text/plain": [
       "<Figure size 432x288 with 1 Axes>"
      ]
     },
     "metadata": {
      "needs_background": "light"
     },
     "output_type": "display_data"
    }
   ],
   "source": [
    "importance = AdaboostModel.feature_importances_\n",
    "# summarize feature importance\n",
    "for i,v in enumerate(importance):\n",
    " print('Feature: %0d, Score: %.5f' % (i,v))\n",
    "# plot feature importance\n",
    "#pyplot.bar([x for x in range(len(importance))], importance)\n",
    "#pyplot.show()\n",
    "\n",
    "fimp = pd.Series(importance, df_sample.columns[1:])\n",
    "fimp.plot(kind=\"barh\",)\n",
    "plt.show()"
   ]
  },
  {
   "cell_type": "markdown",
   "metadata": {},
   "source": [
    "#### KNN Regression Model"
   ]
  },
  {
   "cell_type": "code",
   "execution_count": 24,
   "metadata": {},
   "outputs": [
    {
     "data": {
      "text/plain": [
       "1.0"
      ]
     },
     "execution_count": 24,
     "metadata": {},
     "output_type": "execute_result"
    }
   ],
   "source": [
    "from sklearn import neighbors\n",
    "from sklearn.model_selection import GridSearchCV\n",
    "\n",
    "params = {'n_neighbors':[2,3,4,5,6,7,8,9]}\n",
    "\n",
    "KNNmodel = neighbors.KNeighborsRegressor()\n",
    "KNNmodel.fit(xtrain, ytrain)\n",
    "\n",
    "predictionsKNN = KNNmodel.predict(xtest)\n",
    "\n",
    "KNNmodel.score(xtest, predictionsKNN)"
   ]
  },
  {
   "cell_type": "code",
   "execution_count": null,
   "metadata": {},
   "outputs": [],
   "source": [
    "from sklearn.inspection import permutation_importance\n",
    "results = permutation_importance(KNNmodel, xtest, ytest, scoring='neg_mean_squared_error')"
   ]
  },
  {
   "cell_type": "code",
   "execution_count": 38,
   "metadata": {},
   "outputs": [
    {
     "name": "stdout",
     "output_type": "stream",
     "text": [
      "Feature: 0, Score: 10887902584889.46289\n",
      "Feature: 1, Score: 25414284802768.12500\n",
      "Feature: 2, Score: 79530910.41250\n",
      "Feature: 3, Score: 8300548.73750\n",
      "Feature: 4, Score: 27521038.77500\n",
      "Feature: 5, Score: 19915477.82500\n",
      "Feature: 6, Score: 22936172.02500\n"
     ]
    },
    {
     "data": {
      "image/png": "[encoded data removed]",
      "text/plain": [
       "<Figure size 432x288 with 1 Axes>"
      ]
     },
     "metadata": {
      "needs_background": "light"
     },
     "output_type": "display_data"
    }
   ],
   "source": [
    "importance = results.importances_mean\n",
    "# summarize feature importance\n",
    "for i,v in enumerate(importance):\n",
    " print('Feature: %0d, Score: %.5f' % (i,v))\n",
    "# plot feature importance\n",
    "#pyplot.bar([x for x in range(len(importance))], importance)\n",
    "#pyplot.show()\n",
    "\n",
    "fimp = pd.Series(importance, df_sample.columns[1:])\n",
    "fimp.plot(kind=\"barh\",)\n",
    "plt.show()"
   ]
  },
  {
   "cell_type": "markdown",
   "metadata": {},
   "source": [
    "#### Linear Regression Model"
   ]
  },
  {
   "cell_type": "code",
   "execution_count": 16,
   "metadata": {},
   "outputs": [
    {
     "name": "stdout",
     "output_type": "stream",
     "text": [
      "1.0\n"
     ]
    }
   ],
   "source": [
    "from sklearn.linear_model import LinearRegression\n",
    "\n",
    "linearModel = LinearRegression()\n",
    "linearModel.fit(xtrain, ytrain)\n",
    "\n",
    "predictionsLinear = linearModel.predict(xtest)\n",
    "\n",
    "print(linearModel.score(xtest, predictionsLinear))\n"
   ]
  },
  {
   "cell_type": "code",
   "execution_count": 17,
   "metadata": {},
   "outputs": [
    {
     "name": "stdout",
     "output_type": "stream",
     "text": [
      "Feature: 0, Score: -2.58891\n",
      "Feature: 1, Score: 95216.28331\n",
      "Feature: 2, Score: -1863.12222\n",
      "Feature: 3, Score: 93104.08502\n",
      "Feature: 4, Score: 940.02799\n",
      "Feature: 5, Score: 9698.70059\n",
      "Feature: 6, Score: -262344.65476\n",
      "Feature: 7, Score: -8.88618\n",
      "Feature: 8, Score: -3.60156\n",
      "Feature: 9, Score: -1371.91686\n",
      "Feature: 10, Score: 354904.79484\n",
      "Feature: 11, Score: -314866.57875\n",
      "Feature: 12, Score: 248867.03877\n",
      "Feature: 13, Score: -11901.89838\n",
      "Feature: 14, Score: 4577.68636\n",
      "Feature: 15, Score: -41893.32173\n",
      "Feature: 16, Score: 1547.28587\n",
      "Feature: 17, Score: -1371.91686\n",
      "Feature: 18, Score: 254584.67319\n",
      "Feature: 19, Score: -21318.76044\n"
     ]
    },
    {
     "data": {
      "image/png": "[encoded data removed]",
      "text/plain": [
       "<Figure size 432x288 with 1 Axes>"
      ]
     },
     "metadata": {
      "needs_background": "light"
     },
     "output_type": "display_data"
    }
   ],
   "source": [
    "importance =  linearModel.coef_\n",
    "# summarize feature importance\n",
    "for i,v in enumerate(importance):\n",
    " print('Feature: %0d, Score: %.5f' % (i,v))\n",
    "# plot feature importance\n",
    "#pyplot.bar([x for x in range(len(importance))], importance)\n",
    "#pyplot.show()\n",
    "\n",
    "fimp = pd.Series(importance, df_sample.columns[1:])\n",
    "fimp.plot(kind=\"barh\",)\n",
    "plt.show()"
   ]
  },
  {
   "cell_type": "markdown",
   "metadata": {},
   "source": [
    "#### Gradient Boost"
   ]
  },
  {
   "cell_type": "code",
   "execution_count": 18,
   "metadata": {},
   "outputs": [
    {
     "data": {
      "text/plain": [
       "1.0"
      ]
     },
     "execution_count": 18,
     "metadata": {},
     "output_type": "execute_result"
    }
   ],
   "source": [
    "from sklearn.ensemble import GradientBoostingRegressor\n",
    "modelGboost = GradientBoostingRegressor()\n",
    "modelGboost.fit(xtrain, ytrain)\n",
    "predictionsGboost = modelGboost.predict(xtest)\n",
    "\n",
    "from sklearn.metrics import mean_absolute_error\n",
    "modelGboost.score(xtest, predictionsGboost)"
   ]
  },
  {
   "cell_type": "code",
   "execution_count": 19,
   "metadata": {},
   "outputs": [
    {
     "name": "stdout",
     "output_type": "stream",
     "text": [
      "Feature: 0, Score: 0.70691\n",
      "Feature: 1, Score: 0.06958\n",
      "Feature: 2, Score: 0.00018\n",
      "Feature: 3, Score: 0.00920\n",
      "Feature: 4, Score: 0.00038\n",
      "Feature: 5, Score: 0.00007\n",
      "Feature: 6, Score: 0.00000\n",
      "Feature: 7, Score: 0.10978\n",
      "Feature: 8, Score: 0.00112\n",
      "Feature: 9, Score: 0.03091\n",
      "Feature: 10, Score: 0.00000\n",
      "Feature: 11, Score: 0.03172\n",
      "Feature: 12, Score: 0.00654\n",
      "Feature: 13, Score: 0.00000\n",
      "Feature: 14, Score: 0.00048\n",
      "Feature: 15, Score: 0.03078\n",
      "Feature: 16, Score: 0.00010\n",
      "Feature: 17, Score: 0.00226\n",
      "Feature: 18, Score: 0.00000\n",
      "Feature: 19, Score: 0.00000\n"
     ]
    },
    {
     "data": {
      "image/png": "[encoded data removed]",
      "text/plain": [
       "<Figure size 432x288 with 1 Axes>"
      ]
     },
     "metadata": {
      "needs_background": "light"
     },
     "output_type": "display_data"
    }
   ],
   "source": [
    "importance = modelGboost.feature_importances_\n",
    "# summarize feature importance\n",
    "for i,v in enumerate(importance):\n",
    " print('Feature: %0d, Score: %.5f' % (i,v))\n",
    "# plot feature importance\n",
    "#pyplot.bar([x for x in range(len(importance))], importance)\n",
    "#pyplot.show()\n",
    "\n",
    "fimp = pd.Series(importance, df_sample.columns[1:])\n",
    "fimp.plot(kind=\"barh\",)\n",
    "plt.show()"
   ]
  },
  {
   "cell_type": "markdown",
   "metadata": {},
   "source": [
    "#### XGBoost "
   ]
  },
  {
   "cell_type": "code",
   "execution_count": 47,
   "metadata": {},
   "outputs": [
    {
     "name": "stdout",
     "output_type": "stream",
     "text": [
      "Collecting xgboost\n",
      "  Downloading xgboost-1.7.5-py3-none-win_amd64.whl (70.9 MB)\n",
      "     ---------------------------------------- 70.9/70.9 MB 2.8 MB/s eta 0:00:00\n",
      "Requirement already satisfied: scipy in c:\\users\\cpani\\appdata\\local\\programs\\python\\python310\\lib\\site-packages (from xgboost) (1.8.0)\n",
      "Requirement already satisfied: numpy in c:\\users\\cpani\\appdata\\local\\programs\\python\\python310\\lib\\site-packages (from xgboost) (1.22.3)\n",
      "Installing collected packages: xgboost\n",
      "Successfully installed xgboost-1.7.5\n"
     ]
    },
    {
     "name": "stderr",
     "output_type": "stream",
     "text": [
      "WARNING: There was an error checking the latest version of pip.\n"
     ]
    }
   ],
   "source": [
    "!pip install xgboost"
   ]
  },
  {
   "cell_type": "code",
   "execution_count": 20,
   "metadata": {},
   "outputs": [
    {
     "data": {
      "text/plain": [
       "1.0"
      ]
     },
     "execution_count": 20,
     "metadata": {},
     "output_type": "execute_result"
    }
   ],
   "source": [
    "import xgboost as xgb\n",
    "\n",
    "params = {\n",
    "    \"learning_rate\": 0.1,\n",
    "    \"max_depth\": 5,\n",
    "    \"objective\": \"reg:squarederror\",\n",
    "    \"n_estimators\": 100\n",
    "}\n",
    "\n",
    "# Create the XGBoost model\n",
    "modelXGB = xgb.XGBRegressor(**params)\n",
    "modelXGB.fit(xtrain, ytrain)\n",
    "predictionsXGB = modelXGB.predict(xtest)\n",
    "\n",
    "from sklearn.metrics import mean_absolute_error\n",
    "modelXGB.score(xtest, predictionsXGB)"
   ]
  },
  {
   "cell_type": "code",
   "execution_count": 21,
   "metadata": {},
   "outputs": [
    {
     "name": "stdout",
     "output_type": "stream",
     "text": [
      "Feature: 0, Score: 0.68191\n",
      "Feature: 1, Score: 0.00056\n",
      "Feature: 2, Score: 0.01747\n",
      "Feature: 3, Score: 0.01009\n",
      "Feature: 4, Score: 0.00000\n",
      "Feature: 5, Score: 0.00001\n",
      "Feature: 6, Score: 0.00000\n",
      "Feature: 7, Score: 0.17041\n",
      "Feature: 8, Score: 0.00312\n",
      "Feature: 9, Score: 0.00897\n",
      "Feature: 10, Score: 0.00000\n",
      "Feature: 11, Score: 0.00017\n",
      "Feature: 12, Score: 0.00497\n",
      "Feature: 13, Score: 0.00276\n",
      "Feature: 14, Score: 0.00904\n",
      "Feature: 15, Score: 0.09047\n",
      "Feature: 16, Score: 0.00000\n",
      "Feature: 17, Score: 0.00000\n",
      "Feature: 18, Score: 0.00000\n",
      "Feature: 19, Score: 0.00005\n"
     ]
    },
    {
     "data": {
      "image/png": "[encoded data removed]",
      "text/plain": [
       "<Figure size 432x288 with 1 Axes>"
      ]
     },
     "metadata": {
      "needs_background": "light"
     },
     "output_type": "display_data"
    }
   ],
   "source": [
    "importance = modelXGB.feature_importances_\n",
    "# summarize feature importance\n",
    "for i,v in enumerate(importance):\n",
    " print('Feature: %0d, Score: %.5f' % (i,v))\n",
    "# plot feature importance\n",
    "#pyplot.bar([x for x in range(len(importance))], importance)\n",
    "#pyplot.show()\n",
    "\n",
    "fimp = pd.Series(importance, df_sample.columns[1:])\n",
    "fimp.plot(kind=\"barh\",)\n",
    "plt.show()"
   ]
  },
  {
   "cell_type": "markdown",
   "metadata": {},
   "source": [
    "#### Random Forest"
   ]
  },
  {
   "cell_type": "code",
   "execution_count": 22,
   "metadata": {},
   "outputs": [
    {
     "data": {
      "text/plain": [
       "1.0"
      ]
     },
     "execution_count": 22,
     "metadata": {},
     "output_type": "execute_result"
    }
   ],
   "source": [
    "from sklearn.ensemble import RandomForestRegressor\n",
    "\n",
    "modelRand = RandomForestRegressor(n_estimators=100, max_depth=5, random_state=42)\n",
    "modelRand.fit(xtrain, ytrain)\n",
    "predictionsRand = modelRand.predict(xtest)\n",
    "\n",
    "from sklearn.metrics import mean_absolute_error\n",
    "modelRand.score(xtest, predictionsRand)"
   ]
  },
  {
   "cell_type": "code",
   "execution_count": 23,
   "metadata": {},
   "outputs": [
    {
     "name": "stdout",
     "output_type": "stream",
     "text": [
      "Feature: 0, Score: 0.19443\n",
      "Feature: 1, Score: 0.01552\n",
      "Feature: 2, Score: 0.02666\n",
      "Feature: 3, Score: 0.00172\n",
      "Feature: 4, Score: 0.01597\n",
      "Feature: 5, Score: 0.00062\n",
      "Feature: 6, Score: 0.01229\n",
      "Feature: 7, Score: 0.16046\n",
      "Feature: 8, Score: 0.23287\n",
      "Feature: 9, Score: 0.03260\n",
      "Feature: 10, Score: 0.00000\n",
      "Feature: 11, Score: 0.13686\n",
      "Feature: 12, Score: 0.00038\n",
      "Feature: 13, Score: 0.00215\n",
      "Feature: 14, Score: 0.00143\n",
      "Feature: 15, Score: 0.08841\n",
      "Feature: 16, Score: 0.00008\n",
      "Feature: 17, Score: 0.07637\n",
      "Feature: 18, Score: 0.00118\n",
      "Feature: 19, Score: 0.00000\n"
     ]
    },
    {
     "data": {
      "image/png": "[encoded data removed]",
      "text/plain": [
       "<Figure size 432x288 with 1 Axes>"
      ]
     },
     "metadata": {
      "needs_background": "light"
     },
     "output_type": "display_data"
    }
   ],
   "source": [
    "importance = modelRand.feature_importances_\n",
    "# summarize feature importance\n",
    "for i,v in enumerate(importance):\n",
    " print('Feature: %0d, Score: %.5f' % (i,v))\n",
    "# plot feature importance\n",
    "#pyplot.bar([x for x in range(len(importance))], importance)\n",
    "#pyplot.show()\n",
    "\n",
    "fimp = pd.Series(importance, df_sample.columns[1:])\n",
    "fimp.plot(kind=\"barh\",)\n",
    "plt.show()"
   ]
  },
  {
   "cell_type": "markdown",
   "metadata": {},
   "source": [
    "### Data Inferences"
   ]
  },
  {
   "cell_type": "code",
   "execution_count": 86,
   "metadata": {},
   "outputs": [
    {
     "data": {
      "image/png": "[encoded data removed]",
      "text/plain": [
       "<Figure size 432x288 with 1 Axes>"
      ]
     },
     "metadata": {
      "needs_background": "light"
     },
     "output_type": "display_data"
    }
   ],
   "source": [
    "%matplotlib inline\n",
    "import matplotlib.pyplot as plt\n",
    "plt.plot(dataPrePro.index, dataPrePro['askPrice'], '-b')\n",
    "dataPrePro['askPrice'].replace(1, 5)\n",
    "plt.show()"
   ]
  },
  {
   "cell_type": "code",
   "execution_count": 87,
   "metadata": {},
   "outputs": [
    {
     "data": {
      "text/plain": [
       "2147483647"
      ]
     },
     "execution_count": 87,
     "metadata": {},
     "output_type": "execute_result"
    }
   ],
   "source": [
    "dataPrePro['askPrice'].max()"
   ]
  },
  {
   "cell_type": "code",
   "execution_count": 90,
   "metadata": {},
   "outputs": [
    {
     "data": {
      "text/plain": [
       "(435, 21)"
      ]
     },
     "execution_count": 90,
     "metadata": {},
     "output_type": "execute_result"
    }
   ],
   "source": [
    "dataPrePro[dataPrePro['askPrice'] == 2147483647].shape"
   ]
  },
  {
   "cell_type": "code",
   "execution_count": 92,
   "metadata": {},
   "outputs": [],
   "source": [
    "int32Index = dataPrePro[dataPrePro['askPrice'] == 2147483647].index\n",
    "dataPrePro.drop(int32Index , inplace=True)"
   ]
  },
  {
   "cell_type": "code",
   "execution_count": 93,
   "metadata": {},
   "outputs": [
    {
     "data": {
      "text/plain": [
       "(0, 21)"
      ]
     },
     "execution_count": 93,
     "metadata": {},
     "output_type": "execute_result"
    }
   ],
   "source": [
    "dataPrePro[dataPrePro['askPrice'] == 2147483647].shape"
   ]
  },
  {
   "cell_type": "code",
   "execution_count": 95,
   "metadata": {},
   "outputs": [
    {
     "data": {
      "text/plain": [
       "78787878"
      ]
     },
     "execution_count": 95,
     "metadata": {},
     "output_type": "execute_result"
    }
   ],
   "source": [
    "dataPrePro['askPrice'].max()"
   ]
  },
  {
   "cell_type": "code",
   "execution_count": 100,
   "metadata": {},
   "outputs": [],
   "source": [
    "strange = dataPrePro[dataPrePro['askPrice'] == 78787878].index\n",
    "dataPrePro.drop(strange , inplace=True)"
   ]
  },
  {
   "cell_type": "code",
   "execution_count": 101,
   "metadata": {},
   "outputs": [
    {
     "data": {
      "text/plain": [
       "25002480"
      ]
     },
     "execution_count": 101,
     "metadata": {},
     "output_type": "execute_result"
    }
   ],
   "source": [
    "dataPrePro['askPrice'].max()"
   ]
  },
  {
   "cell_type": "code",
   "execution_count": 104,
   "metadata": {},
   "outputs": [],
   "source": [
    "strange = dataPrePro[dataPrePro['askPrice'] == 25002480].index\n",
    "dataPrePro.drop(strange , inplace=True)"
   ]
  },
  {
   "cell_type": "code",
   "execution_count": 105,
   "metadata": {},
   "outputs": [
    {
     "data": {
      "text/plain": [
       "10000000"
      ]
     },
     "execution_count": 105,
     "metadata": {},
     "output_type": "execute_result"
    }
   ],
   "source": [
    "dataPrePro['askPrice'].max()"
   ]
  },
  {
   "cell_type": "code",
   "execution_count": 107,
   "metadata": {},
   "outputs": [],
   "source": [
    "strange = dataPrePro[dataPrePro['askPrice'] == 10000000].index\n",
    "dataPrePro.drop(strange , inplace=True)"
   ]
  },
  {
   "cell_type": "code",
   "execution_count": 108,
   "metadata": {},
   "outputs": [
    {
     "data": {
      "text/plain": [
       "5877140"
      ]
     },
     "execution_count": 108,
     "metadata": {},
     "output_type": "execute_result"
    }
   ],
   "source": [
    "dataPrePro['askPrice'].max()"
   ]
  },
  {
   "cell_type": "code",
   "execution_count": 110,
   "metadata": {},
   "outputs": [],
   "source": [
    "strange = dataPrePro[dataPrePro['askPrice'] == 5877140].index\n",
    "dataPrePro.drop(strange , inplace=True)"
   ]
  },
  {
   "cell_type": "code",
   "execution_count": 134,
   "metadata": {},
   "outputs": [],
   "source": [
    "strange = dataPrePro[dataPrePro['askPrice'] == 0].index\n",
    "dataPrePro.drop(strange , inplace=True)"
   ]
  },
  {
   "cell_type": "code",
   "execution_count": 111,
   "metadata": {},
   "outputs": [
    {
     "data": {
      "text/plain": [
       "5490900"
      ]
     },
     "execution_count": 111,
     "metadata": {},
     "output_type": "execute_result"
    }
   ],
   "source": [
    "dataPrePro['askPrice'].max()"
   ]
  },
  {
   "cell_type": "code",
   "execution_count": 135,
   "metadata": {},
   "outputs": [
    {
     "data": {
      "image/png": "[encoded data removed]",
      "text/plain": [
       "<Figure size 432x288 with 1 Axes>"
      ]
     },
     "metadata": {
      "needs_background": "light"
     },
     "output_type": "display_data"
    }
   ],
   "source": [
    "%matplotlib inline\n",
    "import matplotlib.pyplot as plt\n",
    "plt.plot(dataPrePro.index, dataPrePro['askPrice'], '-b')\n",
    "dataPrePro['askPrice'].replace(1, 5)\n",
    "plt.show()"
   ]
  },
  {
   "cell_type": "code",
   "execution_count": 118,
   "metadata": {},
   "outputs": [
    {
     "data": {
      "text/plain": [
       "(5694575, 21)"
      ]
     },
     "execution_count": 118,
     "metadata": {},
     "output_type": "execute_result"
    }
   ],
   "source": [
    "dataPrePro.shape"
   ]
  },
  {
   "cell_type": "code",
   "execution_count": 119,
   "metadata": {},
   "outputs": [
    {
     "data": {
      "text/plain": [
       "22869.977540553948"
      ]
     },
     "execution_count": 119,
     "metadata": {},
     "output_type": "execute_result"
    }
   ],
   "source": [
    "dataPrePro['askPrice'].mean()"
   ]
  },
  {
   "cell_type": "code",
   "execution_count": 120,
   "metadata": {},
   "outputs": [
    {
     "data": {
      "text/plain": [
       "20562.0"
      ]
     },
     "execution_count": 120,
     "metadata": {},
     "output_type": "execute_result"
    }
   ],
   "source": [
    "dataPrePro['askPrice'].median()"
   ]
  },
  {
   "cell_type": "code",
   "execution_count": 121,
   "metadata": {},
   "outputs": [],
   "source": [
    "Q1, Q2, Q3 = dataPrePro['askPrice'].quantile([0.25, 0.5, 0.75])"
   ]
  },
  {
   "cell_type": "code",
   "execution_count": 122,
   "metadata": {},
   "outputs": [
    {
     "data": {
      "text/plain": [
       "10777.0"
      ]
     },
     "execution_count": 122,
     "metadata": {},
     "output_type": "execute_result"
    }
   ],
   "source": [
    "Q1"
   ]
  },
  {
   "cell_type": "code",
   "execution_count": 123,
   "metadata": {},
   "outputs": [],
   "source": [
    "dataPrePro.columns = dataPrePro.columns.str.replace(' ', '')"
   ]
  },
  {
   "cell_type": "code",
   "execution_count": 136,
   "metadata": {},
   "outputs": [],
   "source": [
    "Q1data = dataPrePro[dataPrePro['askPrice'] < Q1]\n",
    "Q2data = dataPrePro[(dataPrePro['askPrice'] < Q2) & (dataPrePro['askPrice'] >= Q1)]\n",
    "Q3data = dataPrePro[(dataPrePro['askPrice'] < Q3) & (dataPrePro['askPrice'] >= Q2)]\n",
    "Q4data = dataPrePro[dataPrePro['askPrice'] > Q3]"
   ]
  },
  {
   "cell_type": "code",
   "execution_count": 137,
   "metadata": {},
   "outputs": [
    {
     "data": {
      "text/plain": [
       "count    609402.000000\n",
       "mean       7193.684990\n",
       "std        2376.179835\n",
       "min           1.000000\n",
       "25%        5500.000000\n",
       "50%        7500.000000\n",
       "75%        8999.000000\n",
       "max       10776.000000\n",
       "Name: askPrice, dtype: float64"
      ]
     },
     "execution_count": 137,
     "metadata": {},
     "output_type": "execute_result"
    }
   ],
   "source": [
    "Q1data['askPrice'].describe()"
   ]
  },
  {
   "cell_type": "code",
   "execution_count": 126,
   "metadata": {},
   "outputs": [
    {
     "data": {
      "text/plain": [
       "count    1.423697e+06\n",
       "mean     1.587795e+04\n",
       "std      2.738123e+03\n",
       "min      1.077700e+04\n",
       "25%      1.372600e+04\n",
       "50%      1.598800e+04\n",
       "75%      1.800000e+04\n",
       "max      2.056100e+04\n",
       "Name: askPrice, dtype: float64"
      ]
     },
     "execution_count": 126,
     "metadata": {},
     "output_type": "execute_result"
    }
   ],
   "source": [
    "Q2data['askPrice'].describe()"
   ]
  },
  {
   "cell_type": "code",
   "execution_count": 127,
   "metadata": {},
   "outputs": [
    {
     "data": {
      "text/plain": [
       "count    1.422380e+06\n",
       "mean     2.589028e+04\n",
       "std      3.167263e+03\n",
       "min      2.056200e+04\n",
       "25%      2.307100e+04\n",
       "50%      2.580700e+04\n",
       "75%      2.852300e+04\n",
       "max      3.194400e+04\n",
       "Name: askPrice, dtype: float64"
      ]
     },
     "execution_count": 127,
     "metadata": {},
     "output_type": "execute_result"
    }
   ],
   "source": [
    "Q3data['askPrice'].describe()"
   ]
  },
  {
   "cell_type": "code",
   "execution_count": 128,
   "metadata": {},
   "outputs": [
    {
     "data": {
      "text/plain": [
       "count    1.422837e+06\n",
       "mean     4.663388e+04\n",
       "std      2.254150e+04\n",
       "min      3.194600e+04\n",
       "25%      3.633500e+04\n",
       "50%      4.212500e+04\n",
       "75%      5.136500e+04\n",
       "max      5.490900e+06\n",
       "Name: askPrice, dtype: float64"
      ]
     },
     "execution_count": 128,
     "metadata": {},
     "output_type": "execute_result"
    }
   ],
   "source": [
    "Q4data['askPrice'].describe()"
   ]
  },
  {
   "cell_type": "code",
   "execution_count": 149,
   "metadata": {},
   "outputs": [],
   "source": [
    "Q1data.to_csv('Q1data.csv', index=False)\n",
    "Q2data.to_csv('Q2data.csv', index=False)\n",
    "Q3data.to_csv('Q3data.csv', index=False)\n",
    "Q4data.to_csv('Q4data.csv', index=False)"
   ]
  },
  {
   "cell_type": "code",
   "execution_count": 226,
   "metadata": {},
   "outputs": [
    {
     "name": "stdout",
     "output_type": "stream",
     "text": [
      "(4848, 21)\n"
     ]
    },
    {
     "data": {
      "text/html": [
       "<div>\n",
       "<style scoped>\n",
       "    .dataframe tbody tr th:only-of-type {\n",
       "        vertical-align: middle;\n",
       "    }\n",
       "\n",
       "    .dataframe tbody tr th {\n",
       "        vertical-align: top;\n",
       "    }\n",
       "\n",
       "    .dataframe thead th {\n",
       "        text-align: right;\n",
       "    }\n",
       "</style>\n",
       "<table border=\"1\" class=\"dataframe\">\n",
       "  <thead>\n",
       "    <tr style=\"text-align: right;\">\n",
       "      <th></th>\n",
       "      <th>askPrice</th>\n",
       "      <th>mileage</th>\n",
       "      <th>vf_EngineCylinders</th>\n",
       "      <th>vf_EngineHP</th>\n",
       "      <th>vf_Seats</th>\n",
       "      <th>vf_TopSpeedMPH</th>\n",
       "      <th>vf_TransmissionSpeeds</th>\n",
       "      <th>isNew</th>\n",
       "      <th>color</th>\n",
       "      <th>interiorColor</th>\n",
       "      <th>...</th>\n",
       "      <th>vf_ABS</th>\n",
       "      <th>vf_AdaptiveCruiseControl</th>\n",
       "      <th>vf_AirBagLocFront</th>\n",
       "      <th>vf_AirBagLocSide</th>\n",
       "      <th>vf_BodyClass</th>\n",
       "      <th>vf_DriveType</th>\n",
       "      <th>vf_FuelTypePrimary</th>\n",
       "      <th>vf_Make</th>\n",
       "      <th>vf_TractionControl</th>\n",
       "      <th>vf_TransmissionStyle</th>\n",
       "    </tr>\n",
       "  </thead>\n",
       "  <tbody>\n",
       "    <tr>\n",
       "      <th>66865</th>\n",
       "      <td>7500</td>\n",
       "      <td>107933</td>\n",
       "      <td>6.0</td>\n",
       "      <td>263.0</td>\n",
       "      <td>0.0</td>\n",
       "      <td>0.0</td>\n",
       "      <td>0.0</td>\n",
       "      <td>0</td>\n",
       "      <td>17665</td>\n",
       "      <td>17272</td>\n",
       "      <td>...</td>\n",
       "      <td>3</td>\n",
       "      <td>3</td>\n",
       "      <td>0</td>\n",
       "      <td>1</td>\n",
       "      <td>33</td>\n",
       "      <td>6</td>\n",
       "      <td>6</td>\n",
       "      <td>31</td>\n",
       "      <td>3</td>\n",
       "      <td>7</td>\n",
       "    </tr>\n",
       "    <tr>\n",
       "      <th>66921</th>\n",
       "      <td>7500</td>\n",
       "      <td>127570</td>\n",
       "      <td>6.0</td>\n",
       "      <td>262.0</td>\n",
       "      <td>0.0</td>\n",
       "      <td>0.0</td>\n",
       "      <td>0.0</td>\n",
       "      <td>0</td>\n",
       "      <td>17713</td>\n",
       "      <td>1867</td>\n",
       "      <td>...</td>\n",
       "      <td>3</td>\n",
       "      <td>3</td>\n",
       "      <td>0</td>\n",
       "      <td>1</td>\n",
       "      <td>35</td>\n",
       "      <td>5</td>\n",
       "      <td>6</td>\n",
       "      <td>31</td>\n",
       "      <td>3</td>\n",
       "      <td>7</td>\n",
       "    </tr>\n",
       "    <tr>\n",
       "      <th>67376</th>\n",
       "      <td>7500</td>\n",
       "      <td>107933</td>\n",
       "      <td>6.0</td>\n",
       "      <td>263.0</td>\n",
       "      <td>0.0</td>\n",
       "      <td>0.0</td>\n",
       "      <td>0.0</td>\n",
       "      <td>0</td>\n",
       "      <td>17665</td>\n",
       "      <td>17272</td>\n",
       "      <td>...</td>\n",
       "      <td>3</td>\n",
       "      <td>3</td>\n",
       "      <td>0</td>\n",
       "      <td>1</td>\n",
       "      <td>33</td>\n",
       "      <td>6</td>\n",
       "      <td>6</td>\n",
       "      <td>31</td>\n",
       "      <td>3</td>\n",
       "      <td>7</td>\n",
       "    </tr>\n",
       "    <tr>\n",
       "      <th>67431</th>\n",
       "      <td>7500</td>\n",
       "      <td>127570</td>\n",
       "      <td>6.0</td>\n",
       "      <td>262.0</td>\n",
       "      <td>0.0</td>\n",
       "      <td>0.0</td>\n",
       "      <td>0.0</td>\n",
       "      <td>0</td>\n",
       "      <td>17713</td>\n",
       "      <td>1867</td>\n",
       "      <td>...</td>\n",
       "      <td>3</td>\n",
       "      <td>3</td>\n",
       "      <td>0</td>\n",
       "      <td>1</td>\n",
       "      <td>35</td>\n",
       "      <td>5</td>\n",
       "      <td>6</td>\n",
       "      <td>31</td>\n",
       "      <td>3</td>\n",
       "      <td>7</td>\n",
       "    </tr>\n",
       "    <tr>\n",
       "      <th>67788</th>\n",
       "      <td>7500</td>\n",
       "      <td>145373</td>\n",
       "      <td>4.0</td>\n",
       "      <td>0.0</td>\n",
       "      <td>0.0</td>\n",
       "      <td>0.0</td>\n",
       "      <td>0.0</td>\n",
       "      <td>0</td>\n",
       "      <td>10791</td>\n",
       "      <td>6263</td>\n",
       "      <td>...</td>\n",
       "      <td>3</td>\n",
       "      <td>3</td>\n",
       "      <td>0</td>\n",
       "      <td>2</td>\n",
       "      <td>33</td>\n",
       "      <td>10</td>\n",
       "      <td>6</td>\n",
       "      <td>11</td>\n",
       "      <td>3</td>\n",
       "      <td>7</td>\n",
       "    </tr>\n",
       "  </tbody>\n",
       "</table>\n",
       "<p>5 rows × 21 columns</p>\n",
       "</div>"
      ],
      "text/plain": [
       "       askPrice  mileage  vf_EngineCylinders  vf_EngineHP  vf_Seats  \\\n",
       "66865      7500   107933                 6.0        263.0       0.0   \n",
       "66921      7500   127570                 6.0        262.0       0.0   \n",
       "67376      7500   107933                 6.0        263.0       0.0   \n",
       "67431      7500   127570                 6.0        262.0       0.0   \n",
       "67788      7500   145373                 4.0          0.0       0.0   \n",
       "\n",
       "       vf_TopSpeedMPH  vf_TransmissionSpeeds  isNew  color  interiorColor  \\\n",
       "66865             0.0                    0.0      0  17665          17272   \n",
       "66921             0.0                    0.0      0  17713           1867   \n",
       "67376             0.0                    0.0      0  17665          17272   \n",
       "67431             0.0                    0.0      0  17713           1867   \n",
       "67788             0.0                    0.0      0  10791           6263   \n",
       "\n",
       "       ...  vf_ABS  vf_AdaptiveCruiseControl  vf_AirBagLocFront  \\\n",
       "66865  ...       3                         3                  0   \n",
       "66921  ...       3                         3                  0   \n",
       "67376  ...       3                         3                  0   \n",
       "67431  ...       3                         3                  0   \n",
       "67788  ...       3                         3                  0   \n",
       "\n",
       "       vf_AirBagLocSide  vf_BodyClass  vf_DriveType  vf_FuelTypePrimary  \\\n",
       "66865                 1            33             6                   6   \n",
       "66921                 1            35             5                   6   \n",
       "67376                 1            33             6                   6   \n",
       "67431                 1            35             5                   6   \n",
       "67788                 2            33            10                   6   \n",
       "\n",
       "       vf_Make  vf_TractionControl  vf_TransmissionStyle  \n",
       "66865       31                   3                     7  \n",
       "66921       31                   3                     7  \n",
       "67376       31                   3                     7  \n",
       "67431       31                   3                     7  \n",
       "67788       11                   3                     7  \n",
       "\n",
       "[5 rows x 21 columns]"
      ]
     },
     "execution_count": 226,
     "metadata": {},
     "output_type": "execute_result"
    }
   ],
   "source": [
    "Q1medians = Q1data[Q1data['askPrice'] == Q1data['askPrice'].median()]\n",
    "print(Q1medians.shape)\n",
    "Q1medians.head()"
   ]
  },
  {
   "cell_type": "code",
   "execution_count": 227,
   "metadata": {},
   "outputs": [
    {
     "name": "stdout",
     "output_type": "stream",
     "text": [
      "(2169, 21)\n"
     ]
    },
    {
     "data": {
      "text/html": [
       "<div>\n",
       "<style scoped>\n",
       "    .dataframe tbody tr th:only-of-type {\n",
       "        vertical-align: middle;\n",
       "    }\n",
       "\n",
       "    .dataframe tbody tr th {\n",
       "        vertical-align: top;\n",
       "    }\n",
       "\n",
       "    .dataframe thead th {\n",
       "        text-align: right;\n",
       "    }\n",
       "</style>\n",
       "<table border=\"1\" class=\"dataframe\">\n",
       "  <thead>\n",
       "    <tr style=\"text-align: right;\">\n",
       "      <th></th>\n",
       "      <th>askPrice</th>\n",
       "      <th>mileage</th>\n",
       "      <th>vf_EngineCylinders</th>\n",
       "      <th>vf_EngineHP</th>\n",
       "      <th>vf_Seats</th>\n",
       "      <th>vf_TopSpeedMPH</th>\n",
       "      <th>vf_TransmissionSpeeds</th>\n",
       "      <th>isNew</th>\n",
       "      <th>color</th>\n",
       "      <th>interiorColor</th>\n",
       "      <th>...</th>\n",
       "      <th>vf_ABS</th>\n",
       "      <th>vf_AdaptiveCruiseControl</th>\n",
       "      <th>vf_AirBagLocFront</th>\n",
       "      <th>vf_AirBagLocSide</th>\n",
       "      <th>vf_BodyClass</th>\n",
       "      <th>vf_DriveType</th>\n",
       "      <th>vf_FuelTypePrimary</th>\n",
       "      <th>vf_Make</th>\n",
       "      <th>vf_TractionControl</th>\n",
       "      <th>vf_TransmissionStyle</th>\n",
       "    </tr>\n",
       "  </thead>\n",
       "  <tbody>\n",
       "    <tr>\n",
       "      <th>1066</th>\n",
       "      <td>15988</td>\n",
       "      <td>0</td>\n",
       "      <td>4.0</td>\n",
       "      <td>203.0</td>\n",
       "      <td>5.0</td>\n",
       "      <td>133.0</td>\n",
       "      <td>8.0</td>\n",
       "      <td>0</td>\n",
       "      <td>7862</td>\n",
       "      <td>18610</td>\n",
       "      <td>...</td>\n",
       "      <td>2</td>\n",
       "      <td>2</td>\n",
       "      <td>0</td>\n",
       "      <td>3</td>\n",
       "      <td>33</td>\n",
       "      <td>3</td>\n",
       "      <td>6</td>\n",
       "      <td>103</td>\n",
       "      <td>2</td>\n",
       "      <td>1</td>\n",
       "    </tr>\n",
       "    <tr>\n",
       "      <th>1521</th>\n",
       "      <td>15988</td>\n",
       "      <td>0</td>\n",
       "      <td>6.0</td>\n",
       "      <td>283.0</td>\n",
       "      <td>0.0</td>\n",
       "      <td>0.0</td>\n",
       "      <td>0.0</td>\n",
       "      <td>0</td>\n",
       "      <td>13438</td>\n",
       "      <td>1867</td>\n",
       "      <td>...</td>\n",
       "      <td>3</td>\n",
       "      <td>3</td>\n",
       "      <td>0</td>\n",
       "      <td>3</td>\n",
       "      <td>5</td>\n",
       "      <td>6</td>\n",
       "      <td>6</td>\n",
       "      <td>20</td>\n",
       "      <td>3</td>\n",
       "      <td>7</td>\n",
       "    </tr>\n",
       "    <tr>\n",
       "      <th>123307</th>\n",
       "      <td>15988</td>\n",
       "      <td>0</td>\n",
       "      <td>4.0</td>\n",
       "      <td>173.0</td>\n",
       "      <td>5.0</td>\n",
       "      <td>0.0</td>\n",
       "      <td>0.0</td>\n",
       "      <td>0</td>\n",
       "      <td>18278</td>\n",
       "      <td>18610</td>\n",
       "      <td>...</td>\n",
       "      <td>2</td>\n",
       "      <td>3</td>\n",
       "      <td>0</td>\n",
       "      <td>3</td>\n",
       "      <td>5</td>\n",
       "      <td>6</td>\n",
       "      <td>6</td>\n",
       "      <td>20</td>\n",
       "      <td>2</td>\n",
       "      <td>7</td>\n",
       "    </tr>\n",
       "    <tr>\n",
       "      <th>126399</th>\n",
       "      <td>15988</td>\n",
       "      <td>0</td>\n",
       "      <td>4.0</td>\n",
       "      <td>173.0</td>\n",
       "      <td>5.0</td>\n",
       "      <td>0.0</td>\n",
       "      <td>0.0</td>\n",
       "      <td>0</td>\n",
       "      <td>18278</td>\n",
       "      <td>18610</td>\n",
       "      <td>...</td>\n",
       "      <td>2</td>\n",
       "      <td>3</td>\n",
       "      <td>0</td>\n",
       "      <td>3</td>\n",
       "      <td>5</td>\n",
       "      <td>6</td>\n",
       "      <td>6</td>\n",
       "      <td>20</td>\n",
       "      <td>2</td>\n",
       "      <td>7</td>\n",
       "    </tr>\n",
       "    <tr>\n",
       "      <th>128756</th>\n",
       "      <td>15988</td>\n",
       "      <td>0</td>\n",
       "      <td>4.0</td>\n",
       "      <td>0.0</td>\n",
       "      <td>0.0</td>\n",
       "      <td>0.0</td>\n",
       "      <td>0.0</td>\n",
       "      <td>0</td>\n",
       "      <td>18278</td>\n",
       "      <td>18610</td>\n",
       "      <td>...</td>\n",
       "      <td>3</td>\n",
       "      <td>3</td>\n",
       "      <td>0</td>\n",
       "      <td>1</td>\n",
       "      <td>33</td>\n",
       "      <td>10</td>\n",
       "      <td>6</td>\n",
       "      <td>11</td>\n",
       "      <td>3</td>\n",
       "      <td>7</td>\n",
       "    </tr>\n",
       "  </tbody>\n",
       "</table>\n",
       "<p>5 rows × 21 columns</p>\n",
       "</div>"
      ],
      "text/plain": [
       "        askPrice  mileage  vf_EngineCylinders  vf_EngineHP  vf_Seats  \\\n",
       "1066       15988        0                 4.0        203.0       5.0   \n",
       "1521       15988        0                 6.0        283.0       0.0   \n",
       "123307     15988        0                 4.0        173.0       5.0   \n",
       "126399     15988        0                 4.0        173.0       5.0   \n",
       "128756     15988        0                 4.0          0.0       0.0   \n",
       "\n",
       "        vf_TopSpeedMPH  vf_TransmissionSpeeds  isNew  color  interiorColor  \\\n",
       "1066             133.0                    8.0      0   7862          18610   \n",
       "1521               0.0                    0.0      0  13438           1867   \n",
       "123307             0.0                    0.0      0  18278          18610   \n",
       "126399             0.0                    0.0      0  18278          18610   \n",
       "128756             0.0                    0.0      0  18278          18610   \n",
       "\n",
       "        ...  vf_ABS  vf_AdaptiveCruiseControl  vf_AirBagLocFront  \\\n",
       "1066    ...       2                         2                  0   \n",
       "1521    ...       3                         3                  0   \n",
       "123307  ...       2                         3                  0   \n",
       "126399  ...       2                         3                  0   \n",
       "128756  ...       3                         3                  0   \n",
       "\n",
       "        vf_AirBagLocSide  vf_BodyClass  vf_DriveType  vf_FuelTypePrimary  \\\n",
       "1066                   3            33             3                   6   \n",
       "1521                   3             5             6                   6   \n",
       "123307                 3             5             6                   6   \n",
       "126399                 3             5             6                   6   \n",
       "128756                 1            33            10                   6   \n",
       "\n",
       "        vf_Make  vf_TractionControl  vf_TransmissionStyle  \n",
       "1066        103                   2                     1  \n",
       "1521         20                   3                     7  \n",
       "123307       20                   2                     7  \n",
       "126399       20                   2                     7  \n",
       "128756       11                   3                     7  \n",
       "\n",
       "[5 rows x 21 columns]"
      ]
     },
     "execution_count": 227,
     "metadata": {},
     "output_type": "execute_result"
    }
   ],
   "source": [
    "Q2medians = Q2data[Q2data['askPrice'] == Q2data['askPrice'].median()]\n",
    "print(Q2medians.shape)\n",
    "Q2medians.head()"
   ]
  },
  {
   "cell_type": "code",
   "execution_count": 228,
   "metadata": {},
   "outputs": [
    {
     "name": "stdout",
     "output_type": "stream",
     "text": [
      "(72, 21)\n"
     ]
    },
    {
     "data": {
      "text/html": [
       "<div>\n",
       "<style scoped>\n",
       "    .dataframe tbody tr th:only-of-type {\n",
       "        vertical-align: middle;\n",
       "    }\n",
       "\n",
       "    .dataframe tbody tr th {\n",
       "        vertical-align: top;\n",
       "    }\n",
       "\n",
       "    .dataframe thead th {\n",
       "        text-align: right;\n",
       "    }\n",
       "</style>\n",
       "<table border=\"1\" class=\"dataframe\">\n",
       "  <thead>\n",
       "    <tr style=\"text-align: right;\">\n",
       "      <th></th>\n",
       "      <th>askPrice</th>\n",
       "      <th>mileage</th>\n",
       "      <th>vf_EngineCylinders</th>\n",
       "      <th>vf_EngineHP</th>\n",
       "      <th>vf_Seats</th>\n",
       "      <th>vf_TopSpeedMPH</th>\n",
       "      <th>vf_TransmissionSpeeds</th>\n",
       "      <th>isNew</th>\n",
       "      <th>color</th>\n",
       "      <th>interiorColor</th>\n",
       "      <th>...</th>\n",
       "      <th>vf_ABS</th>\n",
       "      <th>vf_AdaptiveCruiseControl</th>\n",
       "      <th>vf_AirBagLocFront</th>\n",
       "      <th>vf_AirBagLocSide</th>\n",
       "      <th>vf_BodyClass</th>\n",
       "      <th>vf_DriveType</th>\n",
       "      <th>vf_FuelTypePrimary</th>\n",
       "      <th>vf_Make</th>\n",
       "      <th>vf_TractionControl</th>\n",
       "      <th>vf_TransmissionStyle</th>\n",
       "    </tr>\n",
       "  </thead>\n",
       "  <tbody>\n",
       "    <tr>\n",
       "      <th>104706</th>\n",
       "      <td>25807</td>\n",
       "      <td>0</td>\n",
       "      <td>4.0</td>\n",
       "      <td>181.0</td>\n",
       "      <td>5.0</td>\n",
       "      <td>0.0</td>\n",
       "      <td>6.0</td>\n",
       "      <td>1</td>\n",
       "      <td>18278</td>\n",
       "      <td>18610</td>\n",
       "      <td>...</td>\n",
       "      <td>2</td>\n",
       "      <td>1</td>\n",
       "      <td>0</td>\n",
       "      <td>1</td>\n",
       "      <td>33</td>\n",
       "      <td>6</td>\n",
       "      <td>6</td>\n",
       "      <td>31</td>\n",
       "      <td>2</td>\n",
       "      <td>1</td>\n",
       "    </tr>\n",
       "    <tr>\n",
       "      <th>113952</th>\n",
       "      <td>25807</td>\n",
       "      <td>0</td>\n",
       "      <td>4.0</td>\n",
       "      <td>181.0</td>\n",
       "      <td>5.0</td>\n",
       "      <td>0.0</td>\n",
       "      <td>6.0</td>\n",
       "      <td>1</td>\n",
       "      <td>18278</td>\n",
       "      <td>18610</td>\n",
       "      <td>...</td>\n",
       "      <td>2</td>\n",
       "      <td>1</td>\n",
       "      <td>0</td>\n",
       "      <td>1</td>\n",
       "      <td>33</td>\n",
       "      <td>6</td>\n",
       "      <td>6</td>\n",
       "      <td>31</td>\n",
       "      <td>2</td>\n",
       "      <td>1</td>\n",
       "    </tr>\n",
       "    <tr>\n",
       "      <th>149039</th>\n",
       "      <td>25807</td>\n",
       "      <td>0</td>\n",
       "      <td>4.0</td>\n",
       "      <td>184.0</td>\n",
       "      <td>5.0</td>\n",
       "      <td>0.0</td>\n",
       "      <td>9.0</td>\n",
       "      <td>1</td>\n",
       "      <td>3368</td>\n",
       "      <td>1867</td>\n",
       "      <td>...</td>\n",
       "      <td>2</td>\n",
       "      <td>3</td>\n",
       "      <td>0</td>\n",
       "      <td>3</td>\n",
       "      <td>35</td>\n",
       "      <td>2</td>\n",
       "      <td>6</td>\n",
       "      <td>55</td>\n",
       "      <td>2</td>\n",
       "      <td>1</td>\n",
       "    </tr>\n",
       "    <tr>\n",
       "      <th>356588</th>\n",
       "      <td>25807</td>\n",
       "      <td>0</td>\n",
       "      <td>6.0</td>\n",
       "      <td>0.0</td>\n",
       "      <td>5.0</td>\n",
       "      <td>99.0</td>\n",
       "      <td>8.0</td>\n",
       "      <td>1</td>\n",
       "      <td>18278</td>\n",
       "      <td>18610</td>\n",
       "      <td>...</td>\n",
       "      <td>2</td>\n",
       "      <td>3</td>\n",
       "      <td>0</td>\n",
       "      <td>2</td>\n",
       "      <td>31</td>\n",
       "      <td>3</td>\n",
       "      <td>6</td>\n",
       "      <td>36</td>\n",
       "      <td>2</td>\n",
       "      <td>1</td>\n",
       "    </tr>\n",
       "    <tr>\n",
       "      <th>459321</th>\n",
       "      <td>25807</td>\n",
       "      <td>0</td>\n",
       "      <td>4.0</td>\n",
       "      <td>0.0</td>\n",
       "      <td>5.0</td>\n",
       "      <td>0.0</td>\n",
       "      <td>0.0</td>\n",
       "      <td>1</td>\n",
       "      <td>18278</td>\n",
       "      <td>18610</td>\n",
       "      <td>...</td>\n",
       "      <td>2</td>\n",
       "      <td>3</td>\n",
       "      <td>0</td>\n",
       "      <td>2</td>\n",
       "      <td>35</td>\n",
       "      <td>6</td>\n",
       "      <td>6</td>\n",
       "      <td>11</td>\n",
       "      <td>2</td>\n",
       "      <td>7</td>\n",
       "    </tr>\n",
       "  </tbody>\n",
       "</table>\n",
       "<p>5 rows × 21 columns</p>\n",
       "</div>"
      ],
      "text/plain": [
       "        askPrice  mileage  vf_EngineCylinders  vf_EngineHP  vf_Seats  \\\n",
       "104706     25807        0                 4.0        181.0       5.0   \n",
       "113952     25807        0                 4.0        181.0       5.0   \n",
       "149039     25807        0                 4.0        184.0       5.0   \n",
       "356588     25807        0                 6.0          0.0       5.0   \n",
       "459321     25807        0                 4.0          0.0       5.0   \n",
       "\n",
       "        vf_TopSpeedMPH  vf_TransmissionSpeeds  isNew  color  interiorColor  \\\n",
       "104706             0.0                    6.0      1  18278          18610   \n",
       "113952             0.0                    6.0      1  18278          18610   \n",
       "149039             0.0                    9.0      1   3368           1867   \n",
       "356588            99.0                    8.0      1  18278          18610   \n",
       "459321             0.0                    0.0      1  18278          18610   \n",
       "\n",
       "        ...  vf_ABS  vf_AdaptiveCruiseControl  vf_AirBagLocFront  \\\n",
       "104706  ...       2                         1                  0   \n",
       "113952  ...       2                         1                  0   \n",
       "149039  ...       2                         3                  0   \n",
       "356588  ...       2                         3                  0   \n",
       "459321  ...       2                         3                  0   \n",
       "\n",
       "        vf_AirBagLocSide  vf_BodyClass  vf_DriveType  vf_FuelTypePrimary  \\\n",
       "104706                 1            33             6                   6   \n",
       "113952                 1            33             6                   6   \n",
       "149039                 3            35             2                   6   \n",
       "356588                 2            31             3                   6   \n",
       "459321                 2            35             6                   6   \n",
       "\n",
       "        vf_Make  vf_TractionControl  vf_TransmissionStyle  \n",
       "104706       31                   2                     1  \n",
       "113952       31                   2                     1  \n",
       "149039       55                   2                     1  \n",
       "356588       36                   2                     1  \n",
       "459321       11                   2                     7  \n",
       "\n",
       "[5 rows x 21 columns]"
      ]
     },
     "execution_count": 228,
     "metadata": {},
     "output_type": "execute_result"
    }
   ],
   "source": [
    "Q3medians = Q3data[Q3data['askPrice'] == Q3data['askPrice'].median()]\n",
    "print(Q3medians.shape)\n",
    "Q3medians.head()"
   ]
  },
  {
   "cell_type": "code",
   "execution_count": 229,
   "metadata": {},
   "outputs": [
    {
     "name": "stdout",
     "output_type": "stream",
     "text": [
      "(99, 21)\n"
     ]
    },
    {
     "data": {
      "text/html": [
       "<div>\n",
       "<style scoped>\n",
       "    .dataframe tbody tr th:only-of-type {\n",
       "        vertical-align: middle;\n",
       "    }\n",
       "\n",
       "    .dataframe tbody tr th {\n",
       "        vertical-align: top;\n",
       "    }\n",
       "\n",
       "    .dataframe thead th {\n",
       "        text-align: right;\n",
       "    }\n",
       "</style>\n",
       "<table border=\"1\" class=\"dataframe\">\n",
       "  <thead>\n",
       "    <tr style=\"text-align: right;\">\n",
       "      <th></th>\n",
       "      <th>askPrice</th>\n",
       "      <th>mileage</th>\n",
       "      <th>vf_EngineCylinders</th>\n",
       "      <th>vf_EngineHP</th>\n",
       "      <th>vf_Seats</th>\n",
       "      <th>vf_TopSpeedMPH</th>\n",
       "      <th>vf_TransmissionSpeeds</th>\n",
       "      <th>isNew</th>\n",
       "      <th>color</th>\n",
       "      <th>interiorColor</th>\n",
       "      <th>...</th>\n",
       "      <th>vf_ABS</th>\n",
       "      <th>vf_AdaptiveCruiseControl</th>\n",
       "      <th>vf_AirBagLocFront</th>\n",
       "      <th>vf_AirBagLocSide</th>\n",
       "      <th>vf_BodyClass</th>\n",
       "      <th>vf_DriveType</th>\n",
       "      <th>vf_FuelTypePrimary</th>\n",
       "      <th>vf_Make</th>\n",
       "      <th>vf_TractionControl</th>\n",
       "      <th>vf_TransmissionStyle</th>\n",
       "    </tr>\n",
       "  </thead>\n",
       "  <tbody>\n",
       "    <tr>\n",
       "      <th>66866</th>\n",
       "      <td>42125</td>\n",
       "      <td>0</td>\n",
       "      <td>0.0</td>\n",
       "      <td>0.0</td>\n",
       "      <td>0.0</td>\n",
       "      <td>0.0</td>\n",
       "      <td>0.0</td>\n",
       "      <td>1</td>\n",
       "      <td>18278</td>\n",
       "      <td>18610</td>\n",
       "      <td>...</td>\n",
       "      <td>3</td>\n",
       "      <td>3</td>\n",
       "      <td>0</td>\n",
       "      <td>1</td>\n",
       "      <td>31</td>\n",
       "      <td>2</td>\n",
       "      <td>6</td>\n",
       "      <td>31</td>\n",
       "      <td>3</td>\n",
       "      <td>7</td>\n",
       "    </tr>\n",
       "    <tr>\n",
       "      <th>67377</th>\n",
       "      <td>42125</td>\n",
       "      <td>0</td>\n",
       "      <td>0.0</td>\n",
       "      <td>0.0</td>\n",
       "      <td>0.0</td>\n",
       "      <td>0.0</td>\n",
       "      <td>0.0</td>\n",
       "      <td>1</td>\n",
       "      <td>18278</td>\n",
       "      <td>18610</td>\n",
       "      <td>...</td>\n",
       "      <td>3</td>\n",
       "      <td>3</td>\n",
       "      <td>0</td>\n",
       "      <td>1</td>\n",
       "      <td>31</td>\n",
       "      <td>2</td>\n",
       "      <td>6</td>\n",
       "      <td>31</td>\n",
       "      <td>3</td>\n",
       "      <td>7</td>\n",
       "    </tr>\n",
       "    <tr>\n",
       "      <th>152065</th>\n",
       "      <td>42125</td>\n",
       "      <td>15</td>\n",
       "      <td>6.0</td>\n",
       "      <td>310.0</td>\n",
       "      <td>0.0</td>\n",
       "      <td>0.0</td>\n",
       "      <td>0.0</td>\n",
       "      <td>1</td>\n",
       "      <td>9970</td>\n",
       "      <td>18304</td>\n",
       "      <td>...</td>\n",
       "      <td>3</td>\n",
       "      <td>3</td>\n",
       "      <td>0</td>\n",
       "      <td>2</td>\n",
       "      <td>40</td>\n",
       "      <td>10</td>\n",
       "      <td>6</td>\n",
       "      <td>31</td>\n",
       "      <td>3</td>\n",
       "      <td>7</td>\n",
       "    </tr>\n",
       "    <tr>\n",
       "      <th>157713</th>\n",
       "      <td>42125</td>\n",
       "      <td>15</td>\n",
       "      <td>6.0</td>\n",
       "      <td>310.0</td>\n",
       "      <td>0.0</td>\n",
       "      <td>0.0</td>\n",
       "      <td>0.0</td>\n",
       "      <td>1</td>\n",
       "      <td>9970</td>\n",
       "      <td>18304</td>\n",
       "      <td>...</td>\n",
       "      <td>3</td>\n",
       "      <td>3</td>\n",
       "      <td>0</td>\n",
       "      <td>2</td>\n",
       "      <td>40</td>\n",
       "      <td>10</td>\n",
       "      <td>6</td>\n",
       "      <td>31</td>\n",
       "      <td>3</td>\n",
       "      <td>7</td>\n",
       "    </tr>\n",
       "    <tr>\n",
       "      <th>176856</th>\n",
       "      <td>42125</td>\n",
       "      <td>24</td>\n",
       "      <td>4.0</td>\n",
       "      <td>228.0</td>\n",
       "      <td>0.0</td>\n",
       "      <td>0.0</td>\n",
       "      <td>0.0</td>\n",
       "      <td>1</td>\n",
       "      <td>12742</td>\n",
       "      <td>1867</td>\n",
       "      <td>...</td>\n",
       "      <td>3</td>\n",
       "      <td>3</td>\n",
       "      <td>3</td>\n",
       "      <td>2</td>\n",
       "      <td>35</td>\n",
       "      <td>10</td>\n",
       "      <td>6</td>\n",
       "      <td>4</td>\n",
       "      <td>3</td>\n",
       "      <td>1</td>\n",
       "    </tr>\n",
       "  </tbody>\n",
       "</table>\n",
       "<p>5 rows × 21 columns</p>\n",
       "</div>"
      ],
      "text/plain": [
       "        askPrice  mileage  vf_EngineCylinders  vf_EngineHP  vf_Seats  \\\n",
       "66866      42125        0                 0.0          0.0       0.0   \n",
       "67377      42125        0                 0.0          0.0       0.0   \n",
       "152065     42125       15                 6.0        310.0       0.0   \n",
       "157713     42125       15                 6.0        310.0       0.0   \n",
       "176856     42125       24                 4.0        228.0       0.0   \n",
       "\n",
       "        vf_TopSpeedMPH  vf_TransmissionSpeeds  isNew  color  interiorColor  \\\n",
       "66866              0.0                    0.0      1  18278          18610   \n",
       "67377              0.0                    0.0      1  18278          18610   \n",
       "152065             0.0                    0.0      1   9970          18304   \n",
       "157713             0.0                    0.0      1   9970          18304   \n",
       "176856             0.0                    0.0      1  12742           1867   \n",
       "\n",
       "        ...  vf_ABS  vf_AdaptiveCruiseControl  vf_AirBagLocFront  \\\n",
       "66866   ...       3                         3                  0   \n",
       "67377   ...       3                         3                  0   \n",
       "152065  ...       3                         3                  0   \n",
       "157713  ...       3                         3                  0   \n",
       "176856  ...       3                         3                  3   \n",
       "\n",
       "        vf_AirBagLocSide  vf_BodyClass  vf_DriveType  vf_FuelTypePrimary  \\\n",
       "66866                  1            31             2                   6   \n",
       "67377                  1            31             2                   6   \n",
       "152065                 2            40            10                   6   \n",
       "157713                 2            40            10                   6   \n",
       "176856                 2            35            10                   6   \n",
       "\n",
       "        vf_Make  vf_TractionControl  vf_TransmissionStyle  \n",
       "66866        31                   3                     7  \n",
       "67377        31                   3                     7  \n",
       "152065       31                   3                     7  \n",
       "157713       31                   3                     7  \n",
       "176856        4                   3                     1  \n",
       "\n",
       "[5 rows x 21 columns]"
      ]
     },
     "execution_count": 229,
     "metadata": {},
     "output_type": "execute_result"
    }
   ],
   "source": [
    "Q4medians = Q4data[Q4data['askPrice'] == Q4data['askPrice'].median()]\n",
    "print(Q4medians.shape)\n",
    "Q4medians.head()"
   ]
  },
  {
   "cell_type": "code",
   "execution_count": 220,
   "metadata": {},
   "outputs": [
    {
     "name": "stdout",
     "output_type": "stream",
     "text": [
      "['White Plat' 'White Platinum Tri-Coat' 'Mocha Steel'\n",
      " 'Redfire Clearcoat Metallic' 'Blue Granite' 'Steel Silver'\n",
      " 'Platinum Gray Metallic' 'Tectonic' 'Red Jewel Tintcoat'\n",
      " 'Rainforest Green' 'Pearl White' 'Brilliant Silver' 'Super Red 5'\n",
      " 'Blue Topaz' 'Deep Black Metallic' 'Ebony Black' 'Black' 'Magnetic Gray'\n",
      " 'Classic Silver' 'Arctic Ice' 'Super Black' 'Magnetic Gray Metallic'\n",
      " 'ocean blue metallic clearcoat' 'Red Brick' 'Silver Ice Metallic'\n",
      " 'Summit White' 'Brilliant Black Crystal Pearlcoat'\n",
      " 'Clearwater Blue Pearlcoat' 'Phantom Black' 'Ingot Silver' 'Steel Blue'\n",
      " 'Deep Water Blue Pearlcoat' 'Silver' 'Torred' 'Millennium Silver'\n",
      " 'Dark Cherry Red Mica' 'Boston Red' 'Techno Gray' 'Platinum Graphite'\n",
      " 'Black Granite' 'Light Sandstone' 'Quicksilver' 'Marine Blue Pearlcoat'\n",
      " 'Bright White' 'Polished Metal' 'White Suede' 'White Diamond Pearl'\n",
      " 'Crystal White Pearl Mica' 'Inferno Red Crystal Pearlcoat' 'Gray'\n",
      " 'Titanium Silver' 'Cyber Gray' 'Silver Ice' 'Arctic Frost Pearl' 'Blue'\n",
      " 'Graphite Shadow' 'Billet Silver Met' 'Light Khaki' 'Designo Mocha Black'\n",
      " 'Red Hot' 'Gold Mist' 'Tan' 'Vintage Gold' 'Silver Shadow Pearl'\n",
      " 'Tungsten' 'Shimmering White' 'White Gold Metallic' 'Thunder'\n",
      " 'Glacier Blue Metallic' 'Titanium Gray' 'Dark Slate' 'Titanium'\n",
      " 'Rallye Red' 'Crystal White' 'Midnight Black Mica' 'Bright Red Clearcoat'\n",
      " 'Rally Red' 'Aurora Black' 'Mineral Gray' 'Sterling Gray' 'Merlot Jewel'\n",
      " 'Tuxedo Black' 'Stone White' 'Dark Slate Metallic' 'Candy White'\n",
      " 'Imperial Blue Metallic' 'Brilliant Black' 'Crimson Red'\n",
      " 'Jet Black Metallic' 'Winter Frost Pearl' 'Crystal Red Tint' 'White'\n",
      " 'Green' 'Denim' 'Graphite Blue' 'Cayenne Red' 'Crystal Black Pearl'\n",
      " 'Dark Cherry Red' 'Tarmac Black Pearl' 'Carbon Black Metallic'\n",
      " 'Indigo Blue Pearl' 'Sangria Red Mica' 'Meteor Gray Pearl'\n",
      " 'Breakwater Blue' 'Reflex Silver Metallic' 'Pure White' 'Super White'\n",
      " 'Carbon Black' 'Deep Cherry Red Crystal' 'Gold Mist Metallic'\n",
      " 'Oxford White' 'BLACK ONYX' 'GOLD MIST METALLIC'\n",
      " 'Champagne Silver Metallic' 'Bright Silver Metallic Clear Coat'\n",
      " 'Cyber Gray Metallic' 'Merlot Jewel Metallic' 'Sterling Gray Metallic'\n",
      " 'Red' 'Red Brick Pearl' 'Sangria Red Metallic' 'Dark Gray Metallic'\n",
      " 'Blazing Blue Pearl' 'Deep Cherry Red Crystal Pearlcoat'\n",
      " 'Tuxedo Black Metallic' 'Liquid Silver Metallic' 'Ashen Gray Metallic'\n",
      " 'Venetian Red Mica' 'Desert Sand Mica' 'Dark Blue Pearl' 'Radiant Silver'\n",
      " 'Black Onyx' 'Titanium Silver Metallic' 'Quicksilv Metallic'\n",
      " 'Galaxy Gray Mica' 'Silver Lightning Metallic'\n",
      " 'Brilliant Silver Metallic' 'Bright Silver' 'Blizzard Pearl'\n",
      " 'Titanium Metallic' 'Graphite Gray Pearl' 'Lime Squeeze'\n",
      " 'Classic Silver Metallic' 'Parchment Crystal' 'Black Noir Pearl Mica'\n",
      " 'Desert Sand Pearl Coat' 'Clear White' 'Venetian Red' 'Graphite Gray'\n",
      " 'Bright Silver Metallic' 'Alabaster Silver Metallic'\n",
      " 'Graphite Gray Metallic' 'Black Mica' 'Ironman Silver'\n",
      " 'White Pearl Tricoat' 'Nightfall Gray Metallic' 'Ingot Silver Metallic'\n",
      " 'Tungsten Metallic' 'Lemonade' 'Bordeaux Reserve Red' 'Fresh Powder'\n",
      " 'White Gold Flash Tricoat' 'Blue Onyx Metallic' 'Quartz Silver Metallic'\n",
      " 'Birch White' 'Bianco (White)' 'Sparkling Graphite Metallic'\n",
      " 'Blue Ribbon Metallic' 'Radiant Silver Metallic' 'Deep Black'\n",
      " 'Sapphire Blue' 'Midnight Blue Metallic' 'Silver Birch Metallic'\n",
      " 'Redfire Metallic' 'Blue Streak Pearl' 'Deep Cherry Red Crystal Pearl'\n",
      " 'white platinum metallic tricoat' 'Steel Blue Metallic' 'BLUE'\n",
      " 'Tuscan Sun Metallic' 'Sterling Grey Metallic' 'Stone White Clear Coat'\n",
      " 'Blizzard' 'Toreador Red Metallic' 'Creme Brulee' 'Medium Gray Metallic'\n",
      " 'Galaxy Silver Metallic' 'Brilliant Black Crystal Pearl Coat'\n",
      " 'Attitude Black Metallic' 'Thunder Gray ChromaFlair'\n",
      " 'True Blue Pearl Coat' 'Espresso Black' 'Storm Gray Pearl'\n",
      " 'Amber Bronze Metallic' 'Stratosphere Mica' 'Sonic Blue Metallic'\n",
      " 'Silverstone Metallic' 'Light Platinum' 'Espresso Black Metallic'\n",
      " 'Super Black with Black (Top)' 'Light Graystone Pearl Coat'\n",
      " 'Brilliant Black Crystal Pearl' 'Shimmering White Mica'\n",
      " 'Blue Sky Metallic' 'Mocha Steel Metallic' 'Blue Streak Pearl Coat'\n",
      " 'Passion Red Pearl Coat' 'Crystal Red Tintcoat'\n",
      " 'Dark Blue Pearl Metallic' 'Inferno Red Crystal Pearl'\n",
      " 'Vivid Red Metallic' 'Dark Titanium Met. Clear Coat'\n",
      " 'Flame Red Clear Coat' 'Bright Red' 'True Blue Pearlcoat' 'Pitch Black'\n",
      " 'Arizona Beige Metallic' 'Bright Silver Metallic Clearcoat'\n",
      " 'Bordeaux Reserve' 'Silver Steel Metallic Clear Coat'\n",
      " 'Space Gray Metallic' 'Vibrant White' 'Urban Titanium Metallic'\n",
      " 'Vivid Red Clearcoat Metallic' 'Corsa Blue Metallic'\n",
      " 'Oxford White Clearcoat' 'GRAY' 'Dark Toreador Red Clearcoat Metallic'\n",
      " 'Silver Streak Mica' 'Silver Clearcoat Metallic' 'Black Granite Metallic'\n",
      " 'Black Clearcoat' 'Sandstone' 'Red Rock Crystal Pearl'\n",
      " 'Midnight Blue Pearl' 'Onyx Black' 'Metallic Peacock' 'Silver Lightning'\n",
      " 'Harbor Gray' 'Medium Charcoal Gray Met'\n",
      " 'Light Ice Blue Clearcoat Metallic' 'Ming Blue' 'Dyno Blue Pearl'\n",
      " 'True Blue Pearl' 'Champagne' 'Highland Green Metallic'\n",
      " 'Alabaster Silver' 'Blue Topaz Metallic' 'Taffeta White'\n",
      " 'Satin White Pearl' 'Red Candy Metallic' 'Sandy Beach' 'Royal Blue Pearl'\n",
      " 'Polished Metal Metallic' 'Dark Shadow Grey Metallic'\n",
      " 'Quicksilver Metallic' 'Obsidian Black Pearl' 'Stormy Blue Mica'\n",
      " 'Bright White Clearcoat' 'Billet Silver' 'Basque Red Pearl'\n",
      " 'Ruby Red Metallic Tinted Clearcoat' 'Platinum Pearl' 'Bali Blue Pearl'\n",
      " 'Light Almond Pearl Metallic' 'Satin Metal' 'Atlantis Blue'\n",
      " 'Green Gem Metallic' 'Formal Black' 'Radiant Bronze' 'Candy Red Tinted'\n",
      " 'Platinum Pearl Metallic' 'Granite Crystal Metallic Clearcoat'\n",
      " 'Navy Blue Metallic' 'Smoky Granite Mica' 'Gloss Black' 'Fiji Blue Pearl'\n",
      " 'Medium Brown Metallic' 'Kona Coffee Metallic' 'Stone White Clearcoat'\n",
      " 'Precision Gray Metallic' 'Pueblo Gold' 'Arctic White' 'Race Red'\n",
      " 'Moonlight White' 'Ice Blue Metallic' 'Iridium Silver Metallic'\n",
      " 'Black Stone' 'Labrador Black Pearl' 'Alien Pearl Metallic'\n",
      " 'Reflex Silver' 'Ice Silver Metallic' 'SILVER' 'Deep Water Blue Pearl'\n",
      " 'Blue Metallic' 'Lightning Yellow' 'Spicy Red' 'White Black'\n",
      " 'Apple Red Pearl' 'Pacific Blue Pearl' 'Crystal Red Metallic Tintcoat'\n",
      " 'Black Raven' 'Gold' 'Black Cherry' 'Shimmering Silver Metallic'\n",
      " 'Light Silver Metallic' 'Alpine White' 'Phantom Black Metallic'\n",
      " 'Billet Silver Metallic Clearcoat' 'BLACK' 'Deepwater Blue' ' Blue Onyx'\n",
      " ' SILVER' 'Deep Blue Metallic' 'Marathon Blue Pearl'\n",
      " 'Satin Silver Metallic' 'Chrome Metallic' 'Red Candy'\n",
      " 'Redline 2 Coat Pearl' 'Kona Blue Metallic' 'Mercury Gray'\n",
      " 'Blue Candy Metallic Tinted Clearcoat' 'Clearwater Blue Pearl'\n",
      " 'Sterling Gray CC' 'Blue Gold Crystal Metallic' 'Silver Frost Metallic'\n",
      " 'Saharan Stone Metallic' 'Bronze' 'Platinum Metallic'\n",
      " 'Black Diamond Pearl' 'Crystal White Pearl' 'CYBER GRAY METALLIC'\n",
      " 'SILVER ICE METALLIC' 'RED' 'Deep Ruby Metallic' 'Victory Red'\n",
      " 'Blue Ray Metallic' 'Oxford White - White' 'Clearwater Blue' 'Dpcherryrd'\n",
      " 'Carrara White' 'Silver Metallic' 'Salsa Red Pearl' 'Sport Red'\n",
      " 'Mystic Green Metallic' 'Tango Red Pearl' 'Ashen Gray' 'Maximum Steel'\n",
      " 'Pyrite Mica' 'Gunmetal Blue Mica' 'Crystal Gray Metallic'\n",
      " 'Dark Cherry Pearl' 'Nighthawk Black Pearl' 'Wicked Black' 'Blue Slate'\n",
      " 'Black Ice' 'Purple' 'Nocturne Black' 'Liquid Onyx' 'Precision Red'\n",
      " 'Dark Shadow Gray Clearcoat Metallic' 'Beige' 'Ibis White Black Roof'\n",
      " 'Ebony' 'Steel Gray' 'Patriot Blue Pearlcoat' 'Lunar Mist'\n",
      " 'Blazing Copper' 'Espresso' 'Diamond Silver' 'Satin'\n",
      " 'Titanium Gray Metallic' 'Hyper Silver Metallic'\n",
      " 'Whistler Silver Metallic' 'Silver Steel Metallic' 'Ultra Black Pearl'\n",
      " 'Chili Red' 'White Diamond Clearcoat' 'Natural Khaki' 'Nordic White'\n",
      " 'Shimmering Silver' 'Magnetic Red Metallic' 'Silver Blue'\n",
      " 'Kona Blue Mica' 'Midnight Black' 'Taupe Gray Metallic' 'Grey'\n",
      " 'Barcelona Red' 'Silver Pine Mica' 'Dark Charcoal Pearlcoat'\n",
      " 'Seaside Pearl' 'Dark Carmine Red Metallic' 'Harbor Gray Metallic'\n",
      " 'Deep Impact Blue' 'Flame Red Red' 'Sterling Gray Metallic Gray'\n",
      " 'Pebble Beach' 'Yellow' 'Blackberry Pearlcoat' 'Brown' 'Majestic Blue'\n",
      " 'Tungsten Clearcoat Metallic' 'Java' 'Mystic Black' 'Twilight Blue'\n",
      " 'Dark Titanium' 'Victory Red Metallic' 'Dark Mocha Metallic'\n",
      " 'Sizzling Crimson Mica' 'Blue Flame Metallic' 'Frost Silver Metallic'\n",
      " 'Nocturne Black Metallic' 'Gold Leaf Metallic'\n",
      " 'Dark Blue Pearl Clearcoat Metallic' 'Jet Black' 'Steel Silver Metallic'\n",
      " 'Magic Blue Metallic' 'Black Sapphire Metallic' 'Blue Candy Metallic'\n",
      " 'Silver Steel' 'Nero (Black)' 'Frost White Pearl' 'Redfire' 'Maroon'\n",
      " 'Black Diamond' 'Pewter' 'Taupe Gray' 'Glacier White' 'Flamenco Red'\n",
      " 'Summit White White' 'Sandstone Metallic' 'Molten'\n",
      " 'White Platinum Metallic Tri-Coat' 'Midnight Blue Pearlcoat'\n",
      " 'White Suede Clearcoat' 'Venom Red' 'Light Graystone Pearlcoat'\n",
      " 'Steel Metallic' 'White Platinum Tri-Coat Metallic'\n",
      " 'Creme Brulee Clearcoat' 'Light Graystone Pearl' 'Century White'\n",
      " 'Cocoa Metallic' 'Dark Ink Blue Clearcoat Metallic'\n",
      " 'Violet Gray Metallic' 'Carbon' 'Dark Shadow Grey Clearcoat Metallic'\n",
      " 'Iridescent Silver Blue Pearl Mica' 'Light Khaki Metallic Clearcoat'\n",
      " 'Toffee Brown Metallic' 'Stealth Gray Metallic' 'Barcelona Red Metallic'\n",
      " 'Bermuda Blue Metallic' 'Blue ray Metallic']\n",
      "['Tan' 'Black' 'Cocoa/Cashmere' 'Medium Parchment' 'Ebony' 'Off Black'\n",
      " 'Titan Black' 'Earth Gray' 'Dark Gray' 'Jet Black/Medium Titanium'\n",
      " 'Camel' 'Stone' 'Ivory' 'Dark Pewter/Dark Titanium' 'Light Graphite'\n",
      " 'Charcoal' 'Ash' 'off black' 'Beige' 'Dark Slate Gray'\n",
      " 'Medium Slate Gray/Light Shale' 'Dark Slate Gray/Light Graystone' 'Gray'\n",
      " 'Light Titanium' 'Pastel Slate Gray' 'Graphite' 'Silver'\n",
      " 'Medium Pebble Beige/Cream' 'Light Taupe' 'Jet Black' 'Neutral'\n",
      " 'Gray Dark Charcoal' 'Medium Dark Pewter' 'ASH' 'Gray Leather'\n",
      " 'Sand/Black' 'Charcoal Black' 'titanium gray' 'dark slate gray' 'ebony'\n",
      " 'charcoal' 'Dark/Light Slate Gray' 'jet black dark titanium'\n",
      " 'Medium Slate Gray' 'Saddle' 'Dark Pewter W/Silver Trim' 'Marble Gray'\n",
      " 'BLACK' 'Dark Titanium Light Titanium' 'Flint' 'EBONY'\n",
      " 'Silver w/Silver trim' 'gray' 'jet black medium titanium'\n",
      " 'Dark Titanium/Lt Titanium' 'Black/Medium Flint'\n",
      " 'Medium Stone w Cloth Sport Bucket Seats'\n",
      " 'Black w Sport Fabric Upholstery' 'Dark Charcoal'\n",
      " 'Black w Premium Cloth Bucket Seats' 'Taupe' 'Medium Flint' 'black'\n",
      " 'Cashmere' 'Dark Titanium/light Titanium' 'Charcoal Black/Plum Red'\n",
      " 'Cornsilk Beige' 'Ecru' 'Camel/Dark Green' 'Cocoa Black'\n",
      " 'Medium Light Stone' 'jet black' 'GRAY' 'Ivory off Black' 'Fawn' 'Bisque'\n",
      " 'Dark Pewter' 'Pewter' 'DK PEWTER INTERIOR TRIM'\n",
      " 'Dark Slate Gray/Light Pebble Beige Interior' 'Black Interior' 'Blonde'\n",
      " 'Black/Light Frost Beige Interior' 'Medium Flint Grey' 'Sand'\n",
      " 'Med Parchment' 'Light Titanium/Jet Black' 'Light Gray' 'Slate/Graystone'\n",
      " 'UNKNOWN' 'Sport Charcoal' 'Black/Light Graystone Interior'\n",
      " 'Dark khaki/light stone gray' 'Medium Slate/Light Shale'\n",
      " 'Medium Graphite' 'Medium/Dark Flint' 'Light tan' 'Charcoal Black w/Red'\n",
      " 'Tan/Neutral' 'Medium Camel' 'Titanium'\n",
      " 'Dark Flint W/premium Cloth 40/20/40 Front Seat' 'dark slate light shale'\n",
      " 'cashmere' 'Dark Flint' 'Black Medium Flint' 'Base' 'Stone Gray'\n",
      " 'Jet Black/Dark Titanium' 'Dark Slate Gray Interior' 'Khaki'\n",
      " 'Cocoa/Light Neutral' 'Black Light Graystone' 'Dk Gray Lt Gray'\n",
      " 'Sand Beige' 'Jet Black Dark Titanium' 'Jet Black/Brownstone' '0070/La02'\n",
      " 'Medium Titanium' 'Solid Ebony' 'Mist Gray' 'Dark Slate Light Shale'\n",
      " 'Jet Black Titanium' 'Light Frost Black' 'Black w/Cloth Seat Trim'\n",
      " 'White/Charcoal Black' 'Wheat' 'Black Seat Trim' 'Moonrock'\n",
      " 'Dark slate gray' ' Charcoal' 'Medium Pewter' 'Teak' 'light titanium'\n",
      " 'Jet Black/dark Titanium' 'Titanium W/dark Titanium Accents'\n",
      " 'Cocoa/light Neutral' 'Black/light Graystone' 'Dark Gray/lt Gray'\n",
      " 'Medium Slate/light Shale' 'Cocoa/cashmere' 'Black/light Frost Beige'\n",
      " 'Black Light Frost Beige' 'medium slate gray light shale'\n",
      " 'MEDIUM PEWTER INTERIOR TRIM' 'dark taupe' 'JET BLACK'\n",
      " 'SILVER W/ SILVER TRIM' 'CHARCOAL BLACK LEATHER SEAT TRIM'\n",
      " 'lt gray ebony' 'Very Dark Pewter' 'Light Stone Cloth' 'Light Stone'\n",
      " 'Cardamom' 'Creme/Off-Black' 'Quartz Beige' 'Pewter Dark Pewter'\n",
      " 'Gray Black' 'Black/Light Graystone' 'Dark Titanium Lt Titanium'\n",
      " 'Pure Beige' 'Aero gray' 'Medium Dark Flint' 'avorio ivory' 'Slate Gray'\n",
      " 'beige' 'Light Graystone' 'camel' 'Dark Titanium/Jet Black'\n",
      " 'Dark Graphite' 'Black Cloth' 'Charcoal Black Cloth' 'Sport Pewter'\n",
      " 'Alpine Gray' 'Champagne/Charcoal' 'Dark Titanium' 'Diesel Gray'\n",
      " 'Dark Slate/Light Shale' 'brownstone' 'Ceylon Beige' 'Saddle Brown' 'red'\n",
      " 'Quartz' 'Luxor Beige' 'Ebony Leather' 'Steel Gray' 'jet black brick'\n",
      " 'Pastel Pebble Beige' 'Light Titanium / Jet Black' 'Pewter/Dark Pewter'\n",
      " 'Gray/Dark Charcoal' 'Medium Stone' 'Mocha']\n",
      "['FORD' 'CHEVROLET' 'SUBARU' 'VOLKSWAGEN' 'HYUNDAI' 'TOYOTA' 'KIA'\n",
      " 'NISSAN' 'DODGE' 'MITSUBISHI' 'JEEP' 'CHRYSLER' 'LEXUS' 'SATURN' 'GMC'\n",
      " 'HONDA' 'MERCURY' 'MAZDA' 'BMW' 'INFINITI' 'ACURA' 'MERCEDES-BENZ'\n",
      " 'PONTIAC' 'VOLVO' 'AUDI' 'BUICK' 'MINI' 'CADILLAC' 'FIAT' 'HUMMER'\n",
      " 'LINCOLN' 'LAND ROVER' 'PORSCHE' 'JAGUAR' 'HARLEY DAVIDSON']\n"
     ]
    },
    {
     "name": "stdout",
     "output_type": "stream",
     "text": [
      "[nan 'Standard']\n",
      "[nan 'Not Applicable' 'Optional']\n",
      "['1st Row (Driver & Passenger)' nan 'Driver Seat Only']\n",
      "['1st & 2nd Rows' '1st Row (Driver & Passenger)' nan 'All Rows'\n",
      " '1st & 2nd & 3rd Rows']\n",
      "['Sedan/Saloon' 'Sport Utility Vehicle (SUV)/Multi-Purpose Vehicle (MPV)'\n",
      " 'Pickup' 'Wagon' 'Convertible/Cabriolet' 'Coupe'\n",
      " 'Hatchback/Liftback/Notchback' 'Minivan' 'Van'\n",
      " 'Motorcycle - Dual Sport / Adventure / Supermoto / On/Off-road'\n",
      " 'Sport Utility Truck (SUT)'\n",
      " 'Incomplete - Chassis Cab (Number of Cab Unknown)' nan 'Cargo Van'\n",
      " 'Motorcycle - Touring / Sport Touring']\n",
      "['FWD/Front Wheel Drive' 'AWD/All Wheel Drive' nan '4x2'\n",
      " '4WD/4-Wheel Drive/4x4' 'RWD/ Rear Wheel Drive' '2WD/4WD']\n",
      "['Gasoline' 'Flexible Fuel Vehicle (FFV)' nan 'Diesel' 'Electric']\n",
      "['FORD' 'CHEVROLET' 'SUBARU' 'VOLKSWAGEN' 'HYUNDAI' 'TOYOTA' 'KIA'\n",
      " 'NISSAN' 'DODGE' 'MITSUBISHI' 'JEEP' 'CHRYSLER' 'LEXUS' 'SATURN' 'GMC'\n",
      " 'HONDA' 'MERCURY' 'MAZDA' 'BMW' 'INFINITI' 'ACURA' 'MERCEDES-BENZ'\n",
      " 'PONTIAC' 'VOLVO' 'AUDI' 'BUICK' 'MINI' 'CADILLAC' 'FIAT' 'HUMMER'\n",
      " 'LINCOLN' 'LAND ROVER' 'PORSCHE' 'JAGUAR' 'HARLEY DAVIDSON']\n",
      "[nan 'Standard']\n",
      "[nan 'Continuously Variable Transmission (CVT)' 'Automatic'\n",
      " 'Manual/Standard']\n"
     ]
    }
   ],
   "source": [
    "for col in objectTypeCols:\n",
    "    try:\n",
    "        print(LE.fit(dataCleaned[col]).inverse_transform(Q1medians[col].unique()))\n",
    "    except Exception as e:\n",
    "        print(e)"
   ]
  },
  {
   "cell_type": "markdown",
   "metadata": {},
   "source": [
    "#### Get Readable Data"
   ]
  },
  {
   "cell_type": "code",
   "execution_count": 222,
   "metadata": {},
   "outputs": [],
   "source": [
    "Q1readable = Q1medians.copy()"
   ]
  },
  {
   "cell_type": "code",
   "execution_count": 223,
   "metadata": {},
   "outputs": [],
   "source": [
    "for col in objectTypeCols:\n",
    "    try:\n",
    "        Q1readable[col] = LE.fit(dataCleaned[col]).inverse_transform(Q1medians[col])\n",
    "    except Exception as e:\n",
    "        print(e)"
   ]
  },
  {
   "cell_type": "code",
   "execution_count": 224,
   "metadata": {},
   "outputs": [
    {
     "data": {
      "text/html": [
       "<div>\n",
       "<style scoped>\n",
       "    .dataframe tbody tr th:only-of-type {\n",
       "        vertical-align: middle;\n",
       "    }\n",
       "\n",
       "    .dataframe tbody tr th {\n",
       "        vertical-align: top;\n",
       "    }\n",
       "\n",
       "    .dataframe thead th {\n",
       "        text-align: right;\n",
       "    }\n",
       "</style>\n",
       "<table border=\"1\" class=\"dataframe\">\n",
       "  <thead>\n",
       "    <tr style=\"text-align: right;\">\n",
       "      <th></th>\n",
       "      <th>askPrice</th>\n",
       "      <th>mileage</th>\n",
       "      <th>vf_EngineCylinders</th>\n",
       "      <th>vf_EngineHP</th>\n",
       "      <th>vf_Seats</th>\n",
       "      <th>vf_TopSpeedMPH</th>\n",
       "      <th>vf_TransmissionSpeeds</th>\n",
       "      <th>isNew</th>\n",
       "      <th>color</th>\n",
       "      <th>interiorColor</th>\n",
       "      <th>...</th>\n",
       "      <th>vf_ABS</th>\n",
       "      <th>vf_AdaptiveCruiseControl</th>\n",
       "      <th>vf_AirBagLocFront</th>\n",
       "      <th>vf_AirBagLocSide</th>\n",
       "      <th>vf_BodyClass</th>\n",
       "      <th>vf_DriveType</th>\n",
       "      <th>vf_FuelTypePrimary</th>\n",
       "      <th>vf_Make</th>\n",
       "      <th>vf_TractionControl</th>\n",
       "      <th>vf_TransmissionStyle</th>\n",
       "    </tr>\n",
       "  </thead>\n",
       "  <tbody>\n",
       "    <tr>\n",
       "      <th>66865</th>\n",
       "      <td>7500</td>\n",
       "      <td>107933</td>\n",
       "      <td>6.0</td>\n",
       "      <td>263.0</td>\n",
       "      <td>0.0</td>\n",
       "      <td>0.0</td>\n",
       "      <td>0.0</td>\n",
       "      <td>0</td>\n",
       "      <td>White Plat</td>\n",
       "      <td>Tan</td>\n",
       "      <td>...</td>\n",
       "      <td>NaN</td>\n",
       "      <td>NaN</td>\n",
       "      <td>1st Row (Driver &amp; Passenger)</td>\n",
       "      <td>1st &amp; 2nd Rows</td>\n",
       "      <td>Sedan/Saloon</td>\n",
       "      <td>FWD/Front Wheel Drive</td>\n",
       "      <td>Gasoline</td>\n",
       "      <td>FORD</td>\n",
       "      <td>NaN</td>\n",
       "      <td>NaN</td>\n",
       "    </tr>\n",
       "    <tr>\n",
       "      <th>66921</th>\n",
       "      <td>7500</td>\n",
       "      <td>127570</td>\n",
       "      <td>6.0</td>\n",
       "      <td>262.0</td>\n",
       "      <td>0.0</td>\n",
       "      <td>0.0</td>\n",
       "      <td>0.0</td>\n",
       "      <td>0</td>\n",
       "      <td>White Platinum Tri-Coat</td>\n",
       "      <td>Black</td>\n",
       "      <td>...</td>\n",
       "      <td>NaN</td>\n",
       "      <td>NaN</td>\n",
       "      <td>1st Row (Driver &amp; Passenger)</td>\n",
       "      <td>1st &amp; 2nd Rows</td>\n",
       "      <td>Sport Utility Vehicle (SUV)/Multi-Purpose Vehi...</td>\n",
       "      <td>AWD/All Wheel Drive</td>\n",
       "      <td>Gasoline</td>\n",
       "      <td>FORD</td>\n",
       "      <td>NaN</td>\n",
       "      <td>NaN</td>\n",
       "    </tr>\n",
       "    <tr>\n",
       "      <th>67376</th>\n",
       "      <td>7500</td>\n",
       "      <td>107933</td>\n",
       "      <td>6.0</td>\n",
       "      <td>263.0</td>\n",
       "      <td>0.0</td>\n",
       "      <td>0.0</td>\n",
       "      <td>0.0</td>\n",
       "      <td>0</td>\n",
       "      <td>White Plat</td>\n",
       "      <td>Tan</td>\n",
       "      <td>...</td>\n",
       "      <td>NaN</td>\n",
       "      <td>NaN</td>\n",
       "      <td>1st Row (Driver &amp; Passenger)</td>\n",
       "      <td>1st &amp; 2nd Rows</td>\n",
       "      <td>Sedan/Saloon</td>\n",
       "      <td>FWD/Front Wheel Drive</td>\n",
       "      <td>Gasoline</td>\n",
       "      <td>FORD</td>\n",
       "      <td>NaN</td>\n",
       "      <td>NaN</td>\n",
       "    </tr>\n",
       "    <tr>\n",
       "      <th>67431</th>\n",
       "      <td>7500</td>\n",
       "      <td>127570</td>\n",
       "      <td>6.0</td>\n",
       "      <td>262.0</td>\n",
       "      <td>0.0</td>\n",
       "      <td>0.0</td>\n",
       "      <td>0.0</td>\n",
       "      <td>0</td>\n",
       "      <td>White Platinum Tri-Coat</td>\n",
       "      <td>Black</td>\n",
       "      <td>...</td>\n",
       "      <td>NaN</td>\n",
       "      <td>NaN</td>\n",
       "      <td>1st Row (Driver &amp; Passenger)</td>\n",
       "      <td>1st &amp; 2nd Rows</td>\n",
       "      <td>Sport Utility Vehicle (SUV)/Multi-Purpose Vehi...</td>\n",
       "      <td>AWD/All Wheel Drive</td>\n",
       "      <td>Gasoline</td>\n",
       "      <td>FORD</td>\n",
       "      <td>NaN</td>\n",
       "      <td>NaN</td>\n",
       "    </tr>\n",
       "    <tr>\n",
       "      <th>67788</th>\n",
       "      <td>7500</td>\n",
       "      <td>145373</td>\n",
       "      <td>4.0</td>\n",
       "      <td>0.0</td>\n",
       "      <td>0.0</td>\n",
       "      <td>0.0</td>\n",
       "      <td>0.0</td>\n",
       "      <td>0</td>\n",
       "      <td>Mocha Steel</td>\n",
       "      <td>Cocoa/Cashmere</td>\n",
       "      <td>...</td>\n",
       "      <td>NaN</td>\n",
       "      <td>NaN</td>\n",
       "      <td>1st Row (Driver &amp; Passenger)</td>\n",
       "      <td>1st Row (Driver &amp; Passenger)</td>\n",
       "      <td>Sedan/Saloon</td>\n",
       "      <td>NaN</td>\n",
       "      <td>Gasoline</td>\n",
       "      <td>CHEVROLET</td>\n",
       "      <td>NaN</td>\n",
       "      <td>NaN</td>\n",
       "    </tr>\n",
       "  </tbody>\n",
       "</table>\n",
       "<p>5 rows × 21 columns</p>\n",
       "</div>"
      ],
      "text/plain": [
       "       askPrice  mileage  vf_EngineCylinders  vf_EngineHP  vf_Seats  \\\n",
       "66865      7500   107933                 6.0        263.0       0.0   \n",
       "66921      7500   127570                 6.0        262.0       0.0   \n",
       "67376      7500   107933                 6.0        263.0       0.0   \n",
       "67431      7500   127570                 6.0        262.0       0.0   \n",
       "67788      7500   145373                 4.0          0.0       0.0   \n",
       "\n",
       "       vf_TopSpeedMPH  vf_TransmissionSpeeds  isNew                    color  \\\n",
       "66865             0.0                    0.0      0               White Plat   \n",
       "66921             0.0                    0.0      0  White Platinum Tri-Coat   \n",
       "67376             0.0                    0.0      0               White Plat   \n",
       "67431             0.0                    0.0      0  White Platinum Tri-Coat   \n",
       "67788             0.0                    0.0      0              Mocha Steel   \n",
       "\n",
       "        interiorColor  ... vf_ABS vf_AdaptiveCruiseControl  \\\n",
       "66865             Tan  ...    NaN                      NaN   \n",
       "66921           Black  ...    NaN                      NaN   \n",
       "67376             Tan  ...    NaN                      NaN   \n",
       "67431           Black  ...    NaN                      NaN   \n",
       "67788  Cocoa/Cashmere  ...    NaN                      NaN   \n",
       "\n",
       "                  vf_AirBagLocFront              vf_AirBagLocSide  \\\n",
       "66865  1st Row (Driver & Passenger)                1st & 2nd Rows   \n",
       "66921  1st Row (Driver & Passenger)                1st & 2nd Rows   \n",
       "67376  1st Row (Driver & Passenger)                1st & 2nd Rows   \n",
       "67431  1st Row (Driver & Passenger)                1st & 2nd Rows   \n",
       "67788  1st Row (Driver & Passenger)  1st Row (Driver & Passenger)   \n",
       "\n",
       "                                            vf_BodyClass  \\\n",
       "66865                                       Sedan/Saloon   \n",
       "66921  Sport Utility Vehicle (SUV)/Multi-Purpose Vehi...   \n",
       "67376                                       Sedan/Saloon   \n",
       "67431  Sport Utility Vehicle (SUV)/Multi-Purpose Vehi...   \n",
       "67788                                       Sedan/Saloon   \n",
       "\n",
       "                vf_DriveType vf_FuelTypePrimary    vf_Make vf_TractionControl  \\\n",
       "66865  FWD/Front Wheel Drive           Gasoline       FORD                NaN   \n",
       "66921    AWD/All Wheel Drive           Gasoline       FORD                NaN   \n",
       "67376  FWD/Front Wheel Drive           Gasoline       FORD                NaN   \n",
       "67431    AWD/All Wheel Drive           Gasoline       FORD                NaN   \n",
       "67788                    NaN           Gasoline  CHEVROLET                NaN   \n",
       "\n",
       "      vf_TransmissionStyle  \n",
       "66865                  NaN  \n",
       "66921                  NaN  \n",
       "67376                  NaN  \n",
       "67431                  NaN  \n",
       "67788                  NaN  \n",
       "\n",
       "[5 rows x 21 columns]"
      ]
     },
     "execution_count": 224,
     "metadata": {},
     "output_type": "execute_result"
    }
   ],
   "source": [
    "Q1readable.head()"
   ]
  },
  {
   "cell_type": "code",
   "execution_count": 242,
   "metadata": {},
   "outputs": [],
   "source": [
    "Q1readable.to_csv('Q1readable.csv', index=False)"
   ]
  },
  {
   "cell_type": "code",
   "execution_count": 230,
   "metadata": {},
   "outputs": [],
   "source": [
    "Q2readable = Q2medians.copy()"
   ]
  },
  {
   "cell_type": "code",
   "execution_count": 231,
   "metadata": {},
   "outputs": [],
   "source": [
    "for col in objectTypeCols:\n",
    "    try:\n",
    "        Q2readable[col] = LE.fit(dataCleaned[col]).inverse_transform(Q2medians[col])\n",
    "    except Exception as e:\n",
    "        print(e)"
   ]
  },
  {
   "cell_type": "code",
   "execution_count": 232,
   "metadata": {
    "scrolled": false
   },
   "outputs": [
    {
     "data": {
      "text/html": [
       "<div>\n",
       "<style scoped>\n",
       "    .dataframe tbody tr th:only-of-type {\n",
       "        vertical-align: middle;\n",
       "    }\n",
       "\n",
       "    .dataframe tbody tr th {\n",
       "        vertical-align: top;\n",
       "    }\n",
       "\n",
       "    .dataframe thead th {\n",
       "        text-align: right;\n",
       "    }\n",
       "</style>\n",
       "<table border=\"1\" class=\"dataframe\">\n",
       "  <thead>\n",
       "    <tr style=\"text-align: right;\">\n",
       "      <th></th>\n",
       "      <th>askPrice</th>\n",
       "      <th>mileage</th>\n",
       "      <th>vf_EngineCylinders</th>\n",
       "      <th>vf_EngineHP</th>\n",
       "      <th>vf_Seats</th>\n",
       "      <th>vf_TopSpeedMPH</th>\n",
       "      <th>vf_TransmissionSpeeds</th>\n",
       "      <th>isNew</th>\n",
       "      <th>color</th>\n",
       "      <th>interiorColor</th>\n",
       "      <th>...</th>\n",
       "      <th>vf_ABS</th>\n",
       "      <th>vf_AdaptiveCruiseControl</th>\n",
       "      <th>vf_AirBagLocFront</th>\n",
       "      <th>vf_AirBagLocSide</th>\n",
       "      <th>vf_BodyClass</th>\n",
       "      <th>vf_DriveType</th>\n",
       "      <th>vf_FuelTypePrimary</th>\n",
       "      <th>vf_Make</th>\n",
       "      <th>vf_TractionControl</th>\n",
       "      <th>vf_TransmissionStyle</th>\n",
       "    </tr>\n",
       "  </thead>\n",
       "  <tbody>\n",
       "    <tr>\n",
       "      <th>1066</th>\n",
       "      <td>15988</td>\n",
       "      <td>0</td>\n",
       "      <td>4.0</td>\n",
       "      <td>203.0</td>\n",
       "      <td>5.0</td>\n",
       "      <td>133.0</td>\n",
       "      <td>8.0</td>\n",
       "      <td>0</td>\n",
       "      <td>Green</td>\n",
       "      <td>off black</td>\n",
       "      <td>...</td>\n",
       "      <td>Standard</td>\n",
       "      <td>Standard</td>\n",
       "      <td>1st Row (Driver &amp; Passenger)</td>\n",
       "      <td>All Rows</td>\n",
       "      <td>Sedan/Saloon</td>\n",
       "      <td>4x2</td>\n",
       "      <td>Gasoline</td>\n",
       "      <td>TOYOTA</td>\n",
       "      <td>Standard</td>\n",
       "      <td>Automatic</td>\n",
       "    </tr>\n",
       "    <tr>\n",
       "      <th>1521</th>\n",
       "      <td>15988</td>\n",
       "      <td>0</td>\n",
       "      <td>6.0</td>\n",
       "      <td>283.0</td>\n",
       "      <td>0.0</td>\n",
       "      <td>0.0</td>\n",
       "      <td>0.0</td>\n",
       "      <td>0</td>\n",
       "      <td>Redline 2 Coat Pearl</td>\n",
       "      <td>Black</td>\n",
       "      <td>...</td>\n",
       "      <td>NaN</td>\n",
       "      <td>NaN</td>\n",
       "      <td>1st Row (Driver &amp; Passenger)</td>\n",
       "      <td>All Rows</td>\n",
       "      <td>Hatchback/Liftback/Notchback</td>\n",
       "      <td>FWD/Front Wheel Drive</td>\n",
       "      <td>Gasoline</td>\n",
       "      <td>DODGE</td>\n",
       "      <td>NaN</td>\n",
       "      <td>NaN</td>\n",
       "    </tr>\n",
       "    <tr>\n",
       "      <th>123307</th>\n",
       "      <td>15988</td>\n",
       "      <td>0</td>\n",
       "      <td>4.0</td>\n",
       "      <td>173.0</td>\n",
       "      <td>5.0</td>\n",
       "      <td>0.0</td>\n",
       "      <td>0.0</td>\n",
       "      <td>0</td>\n",
       "      <td>ocean blue metallic clearcoat</td>\n",
       "      <td>off black</td>\n",
       "      <td>...</td>\n",
       "      <td>Standard</td>\n",
       "      <td>NaN</td>\n",
       "      <td>1st Row (Driver &amp; Passenger)</td>\n",
       "      <td>All Rows</td>\n",
       "      <td>Hatchback/Liftback/Notchback</td>\n",
       "      <td>FWD/Front Wheel Drive</td>\n",
       "      <td>Gasoline</td>\n",
       "      <td>DODGE</td>\n",
       "      <td>Standard</td>\n",
       "      <td>NaN</td>\n",
       "    </tr>\n",
       "    <tr>\n",
       "      <th>126399</th>\n",
       "      <td>15988</td>\n",
       "      <td>0</td>\n",
       "      <td>4.0</td>\n",
       "      <td>173.0</td>\n",
       "      <td>5.0</td>\n",
       "      <td>0.0</td>\n",
       "      <td>0.0</td>\n",
       "      <td>0</td>\n",
       "      <td>ocean blue metallic clearcoat</td>\n",
       "      <td>off black</td>\n",
       "      <td>...</td>\n",
       "      <td>Standard</td>\n",
       "      <td>NaN</td>\n",
       "      <td>1st Row (Driver &amp; Passenger)</td>\n",
       "      <td>All Rows</td>\n",
       "      <td>Hatchback/Liftback/Notchback</td>\n",
       "      <td>FWD/Front Wheel Drive</td>\n",
       "      <td>Gasoline</td>\n",
       "      <td>DODGE</td>\n",
       "      <td>Standard</td>\n",
       "      <td>NaN</td>\n",
       "    </tr>\n",
       "    <tr>\n",
       "      <th>128756</th>\n",
       "      <td>15988</td>\n",
       "      <td>0</td>\n",
       "      <td>4.0</td>\n",
       "      <td>0.0</td>\n",
       "      <td>0.0</td>\n",
       "      <td>0.0</td>\n",
       "      <td>0.0</td>\n",
       "      <td>0</td>\n",
       "      <td>ocean blue metallic clearcoat</td>\n",
       "      <td>off black</td>\n",
       "      <td>...</td>\n",
       "      <td>NaN</td>\n",
       "      <td>NaN</td>\n",
       "      <td>1st Row (Driver &amp; Passenger)</td>\n",
       "      <td>1st &amp; 2nd Rows</td>\n",
       "      <td>Sedan/Saloon</td>\n",
       "      <td>NaN</td>\n",
       "      <td>Gasoline</td>\n",
       "      <td>CHEVROLET</td>\n",
       "      <td>NaN</td>\n",
       "      <td>NaN</td>\n",
       "    </tr>\n",
       "  </tbody>\n",
       "</table>\n",
       "<p>5 rows × 21 columns</p>\n",
       "</div>"
      ],
      "text/plain": [
       "        askPrice  mileage  vf_EngineCylinders  vf_EngineHP  vf_Seats  \\\n",
       "1066       15988        0                 4.0        203.0       5.0   \n",
       "1521       15988        0                 6.0        283.0       0.0   \n",
       "123307     15988        0                 4.0        173.0       5.0   \n",
       "126399     15988        0                 4.0        173.0       5.0   \n",
       "128756     15988        0                 4.0          0.0       0.0   \n",
       "\n",
       "        vf_TopSpeedMPH  vf_TransmissionSpeeds  isNew  \\\n",
       "1066             133.0                    8.0      0   \n",
       "1521               0.0                    0.0      0   \n",
       "123307             0.0                    0.0      0   \n",
       "126399             0.0                    0.0      0   \n",
       "128756             0.0                    0.0      0   \n",
       "\n",
       "                                color interiorColor  ...    vf_ABS  \\\n",
       "1066                            Green     off black  ...  Standard   \n",
       "1521             Redline 2 Coat Pearl         Black  ...       NaN   \n",
       "123307  ocean blue metallic clearcoat     off black  ...  Standard   \n",
       "126399  ocean blue metallic clearcoat     off black  ...  Standard   \n",
       "128756  ocean blue metallic clearcoat     off black  ...       NaN   \n",
       "\n",
       "       vf_AdaptiveCruiseControl             vf_AirBagLocFront  \\\n",
       "1066                   Standard  1st Row (Driver & Passenger)   \n",
       "1521                        NaN  1st Row (Driver & Passenger)   \n",
       "123307                      NaN  1st Row (Driver & Passenger)   \n",
       "126399                      NaN  1st Row (Driver & Passenger)   \n",
       "128756                      NaN  1st Row (Driver & Passenger)   \n",
       "\n",
       "       vf_AirBagLocSide                  vf_BodyClass           vf_DriveType  \\\n",
       "1066           All Rows                  Sedan/Saloon                    4x2   \n",
       "1521           All Rows  Hatchback/Liftback/Notchback  FWD/Front Wheel Drive   \n",
       "123307         All Rows  Hatchback/Liftback/Notchback  FWD/Front Wheel Drive   \n",
       "126399         All Rows  Hatchback/Liftback/Notchback  FWD/Front Wheel Drive   \n",
       "128756   1st & 2nd Rows                  Sedan/Saloon                    NaN   \n",
       "\n",
       "       vf_FuelTypePrimary    vf_Make vf_TractionControl vf_TransmissionStyle  \n",
       "1066             Gasoline     TOYOTA           Standard            Automatic  \n",
       "1521             Gasoline      DODGE                NaN                  NaN  \n",
       "123307           Gasoline      DODGE           Standard                  NaN  \n",
       "126399           Gasoline      DODGE           Standard                  NaN  \n",
       "128756           Gasoline  CHEVROLET                NaN                  NaN  \n",
       "\n",
       "[5 rows x 21 columns]"
      ]
     },
     "execution_count": 232,
     "metadata": {},
     "output_type": "execute_result"
    }
   ],
   "source": [
    "Q2readable.head()"
   ]
  },
  {
   "cell_type": "code",
   "execution_count": 233,
   "metadata": {},
   "outputs": [],
   "source": [
    "Q2readable.to_csv('Q2readable.csv', index=False)"
   ]
  },
  {
   "cell_type": "code",
   "execution_count": 234,
   "metadata": {},
   "outputs": [],
   "source": [
    "Q3readable = Q3medians.copy()"
   ]
  },
  {
   "cell_type": "code",
   "execution_count": 235,
   "metadata": {},
   "outputs": [],
   "source": [
    "for col in objectTypeCols:\n",
    "    try:\n",
    "        Q3readable[col] = LE.fit(dataCleaned[col]).inverse_transform(Q3medians[col])\n",
    "    except Exception as e:\n",
    "        print(e)"
   ]
  },
  {
   "cell_type": "code",
   "execution_count": 236,
   "metadata": {},
   "outputs": [
    {
     "data": {
      "text/html": [
       "<div>\n",
       "<style scoped>\n",
       "    .dataframe tbody tr th:only-of-type {\n",
       "        vertical-align: middle;\n",
       "    }\n",
       "\n",
       "    .dataframe tbody tr th {\n",
       "        vertical-align: top;\n",
       "    }\n",
       "\n",
       "    .dataframe thead th {\n",
       "        text-align: right;\n",
       "    }\n",
       "</style>\n",
       "<table border=\"1\" class=\"dataframe\">\n",
       "  <thead>\n",
       "    <tr style=\"text-align: right;\">\n",
       "      <th></th>\n",
       "      <th>askPrice</th>\n",
       "      <th>mileage</th>\n",
       "      <th>vf_EngineCylinders</th>\n",
       "      <th>vf_EngineHP</th>\n",
       "      <th>vf_Seats</th>\n",
       "      <th>vf_TopSpeedMPH</th>\n",
       "      <th>vf_TransmissionSpeeds</th>\n",
       "      <th>isNew</th>\n",
       "      <th>color</th>\n",
       "      <th>interiorColor</th>\n",
       "      <th>...</th>\n",
       "      <th>vf_ABS</th>\n",
       "      <th>vf_AdaptiveCruiseControl</th>\n",
       "      <th>vf_AirBagLocFront</th>\n",
       "      <th>vf_AirBagLocSide</th>\n",
       "      <th>vf_BodyClass</th>\n",
       "      <th>vf_DriveType</th>\n",
       "      <th>vf_FuelTypePrimary</th>\n",
       "      <th>vf_Make</th>\n",
       "      <th>vf_TractionControl</th>\n",
       "      <th>vf_TransmissionStyle</th>\n",
       "    </tr>\n",
       "  </thead>\n",
       "  <tbody>\n",
       "    <tr>\n",
       "      <th>104706</th>\n",
       "      <td>25807</td>\n",
       "      <td>0</td>\n",
       "      <td>4.0</td>\n",
       "      <td>181.0</td>\n",
       "      <td>5.0</td>\n",
       "      <td>0.0</td>\n",
       "      <td>6.0</td>\n",
       "      <td>1</td>\n",
       "      <td>ocean blue metallic clearcoat</td>\n",
       "      <td>off black</td>\n",
       "      <td>...</td>\n",
       "      <td>Standard</td>\n",
       "      <td>Optional</td>\n",
       "      <td>1st Row (Driver &amp; Passenger)</td>\n",
       "      <td>1st &amp; 2nd Rows</td>\n",
       "      <td>Sedan/Saloon</td>\n",
       "      <td>FWD/Front Wheel Drive</td>\n",
       "      <td>Gasoline</td>\n",
       "      <td>FORD</td>\n",
       "      <td>Standard</td>\n",
       "      <td>Automatic</td>\n",
       "    </tr>\n",
       "    <tr>\n",
       "      <th>113952</th>\n",
       "      <td>25807</td>\n",
       "      <td>0</td>\n",
       "      <td>4.0</td>\n",
       "      <td>181.0</td>\n",
       "      <td>5.0</td>\n",
       "      <td>0.0</td>\n",
       "      <td>6.0</td>\n",
       "      <td>1</td>\n",
       "      <td>ocean blue metallic clearcoat</td>\n",
       "      <td>off black</td>\n",
       "      <td>...</td>\n",
       "      <td>Standard</td>\n",
       "      <td>Optional</td>\n",
       "      <td>1st Row (Driver &amp; Passenger)</td>\n",
       "      <td>1st &amp; 2nd Rows</td>\n",
       "      <td>Sedan/Saloon</td>\n",
       "      <td>FWD/Front Wheel Drive</td>\n",
       "      <td>Gasoline</td>\n",
       "      <td>FORD</td>\n",
       "      <td>Standard</td>\n",
       "      <td>Automatic</td>\n",
       "    </tr>\n",
       "    <tr>\n",
       "      <th>149039</th>\n",
       "      <td>25807</td>\n",
       "      <td>0</td>\n",
       "      <td>4.0</td>\n",
       "      <td>184.0</td>\n",
       "      <td>5.0</td>\n",
       "      <td>0.0</td>\n",
       "      <td>9.0</td>\n",
       "      <td>1</td>\n",
       "      <td>Bright White Clearcoat</td>\n",
       "      <td>Black</td>\n",
       "      <td>...</td>\n",
       "      <td>Standard</td>\n",
       "      <td>NaN</td>\n",
       "      <td>1st Row (Driver &amp; Passenger)</td>\n",
       "      <td>All Rows</td>\n",
       "      <td>Sport Utility Vehicle (SUV)/Multi-Purpose Vehi...</td>\n",
       "      <td>4WD/4-Wheel Drive/4x4</td>\n",
       "      <td>Gasoline</td>\n",
       "      <td>JEEP</td>\n",
       "      <td>Standard</td>\n",
       "      <td>Automatic</td>\n",
       "    </tr>\n",
       "    <tr>\n",
       "      <th>356588</th>\n",
       "      <td>25807</td>\n",
       "      <td>0</td>\n",
       "      <td>6.0</td>\n",
       "      <td>0.0</td>\n",
       "      <td>5.0</td>\n",
       "      <td>99.0</td>\n",
       "      <td>8.0</td>\n",
       "      <td>1</td>\n",
       "      <td>ocean blue metallic clearcoat</td>\n",
       "      <td>off black</td>\n",
       "      <td>...</td>\n",
       "      <td>Standard</td>\n",
       "      <td>NaN</td>\n",
       "      <td>1st Row (Driver &amp; Passenger)</td>\n",
       "      <td>1st Row (Driver &amp; Passenger)</td>\n",
       "      <td>Pickup</td>\n",
       "      <td>4x2</td>\n",
       "      <td>Gasoline</td>\n",
       "      <td>GMC</td>\n",
       "      <td>Standard</td>\n",
       "      <td>Automatic</td>\n",
       "    </tr>\n",
       "    <tr>\n",
       "      <th>459321</th>\n",
       "      <td>25807</td>\n",
       "      <td>0</td>\n",
       "      <td>4.0</td>\n",
       "      <td>0.0</td>\n",
       "      <td>5.0</td>\n",
       "      <td>0.0</td>\n",
       "      <td>0.0</td>\n",
       "      <td>1</td>\n",
       "      <td>ocean blue metallic clearcoat</td>\n",
       "      <td>off black</td>\n",
       "      <td>...</td>\n",
       "      <td>Standard</td>\n",
       "      <td>NaN</td>\n",
       "      <td>1st Row (Driver &amp; Passenger)</td>\n",
       "      <td>1st Row (Driver &amp; Passenger)</td>\n",
       "      <td>Sport Utility Vehicle (SUV)/Multi-Purpose Vehi...</td>\n",
       "      <td>FWD/Front Wheel Drive</td>\n",
       "      <td>Gasoline</td>\n",
       "      <td>CHEVROLET</td>\n",
       "      <td>Standard</td>\n",
       "      <td>NaN</td>\n",
       "    </tr>\n",
       "  </tbody>\n",
       "</table>\n",
       "<p>5 rows × 21 columns</p>\n",
       "</div>"
      ],
      "text/plain": [
       "        askPrice  mileage  vf_EngineCylinders  vf_EngineHP  vf_Seats  \\\n",
       "104706     25807        0                 4.0        181.0       5.0   \n",
       "113952     25807        0                 4.0        181.0       5.0   \n",
       "149039     25807        0                 4.0        184.0       5.0   \n",
       "356588     25807        0                 6.0          0.0       5.0   \n",
       "459321     25807        0                 4.0          0.0       5.0   \n",
       "\n",
       "        vf_TopSpeedMPH  vf_TransmissionSpeeds  isNew  \\\n",
       "104706             0.0                    6.0      1   \n",
       "113952             0.0                    6.0      1   \n",
       "149039             0.0                    9.0      1   \n",
       "356588            99.0                    8.0      1   \n",
       "459321             0.0                    0.0      1   \n",
       "\n",
       "                                color interiorColor  ...    vf_ABS  \\\n",
       "104706  ocean blue metallic clearcoat     off black  ...  Standard   \n",
       "113952  ocean blue metallic clearcoat     off black  ...  Standard   \n",
       "149039         Bright White Clearcoat         Black  ...  Standard   \n",
       "356588  ocean blue metallic clearcoat     off black  ...  Standard   \n",
       "459321  ocean blue metallic clearcoat     off black  ...  Standard   \n",
       "\n",
       "       vf_AdaptiveCruiseControl             vf_AirBagLocFront  \\\n",
       "104706                 Optional  1st Row (Driver & Passenger)   \n",
       "113952                 Optional  1st Row (Driver & Passenger)   \n",
       "149039                      NaN  1st Row (Driver & Passenger)   \n",
       "356588                      NaN  1st Row (Driver & Passenger)   \n",
       "459321                      NaN  1st Row (Driver & Passenger)   \n",
       "\n",
       "                    vf_AirBagLocSide  \\\n",
       "104706                1st & 2nd Rows   \n",
       "113952                1st & 2nd Rows   \n",
       "149039                      All Rows   \n",
       "356588  1st Row (Driver & Passenger)   \n",
       "459321  1st Row (Driver & Passenger)   \n",
       "\n",
       "                                             vf_BodyClass  \\\n",
       "104706                                       Sedan/Saloon   \n",
       "113952                                       Sedan/Saloon   \n",
       "149039  Sport Utility Vehicle (SUV)/Multi-Purpose Vehi...   \n",
       "356588                                             Pickup   \n",
       "459321  Sport Utility Vehicle (SUV)/Multi-Purpose Vehi...   \n",
       "\n",
       "                 vf_DriveType vf_FuelTypePrimary    vf_Make  \\\n",
       "104706  FWD/Front Wheel Drive           Gasoline       FORD   \n",
       "113952  FWD/Front Wheel Drive           Gasoline       FORD   \n",
       "149039  4WD/4-Wheel Drive/4x4           Gasoline       JEEP   \n",
       "356588                    4x2           Gasoline        GMC   \n",
       "459321  FWD/Front Wheel Drive           Gasoline  CHEVROLET   \n",
       "\n",
       "       vf_TractionControl vf_TransmissionStyle  \n",
       "104706           Standard            Automatic  \n",
       "113952           Standard            Automatic  \n",
       "149039           Standard            Automatic  \n",
       "356588           Standard            Automatic  \n",
       "459321           Standard                  NaN  \n",
       "\n",
       "[5 rows x 21 columns]"
      ]
     },
     "execution_count": 236,
     "metadata": {},
     "output_type": "execute_result"
    }
   ],
   "source": [
    "Q3readable.head()"
   ]
  },
  {
   "cell_type": "code",
   "execution_count": 237,
   "metadata": {},
   "outputs": [],
   "source": [
    "Q3readable.to_csv('Q3readable.csv', index=False)"
   ]
  },
  {
   "cell_type": "code",
   "execution_count": 238,
   "metadata": {},
   "outputs": [],
   "source": [
    "Q4readable = Q4medians.copy()"
   ]
  },
  {
   "cell_type": "code",
   "execution_count": 239,
   "metadata": {},
   "outputs": [],
   "source": [
    "for col in objectTypeCols:\n",
    "    try:\n",
    "        Q4readable[col] = LE.fit(dataCleaned[col]).inverse_transform(Q4medians[col])\n",
    "    except Exception as e:\n",
    "        print(e)"
   ]
  },
  {
   "cell_type": "code",
   "execution_count": 240,
   "metadata": {},
   "outputs": [
    {
     "data": {
      "text/html": [
       "<div>\n",
       "<style scoped>\n",
       "    .dataframe tbody tr th:only-of-type {\n",
       "        vertical-align: middle;\n",
       "    }\n",
       "\n",
       "    .dataframe tbody tr th {\n",
       "        vertical-align: top;\n",
       "    }\n",
       "\n",
       "    .dataframe thead th {\n",
       "        text-align: right;\n",
       "    }\n",
       "</style>\n",
       "<table border=\"1\" class=\"dataframe\">\n",
       "  <thead>\n",
       "    <tr style=\"text-align: right;\">\n",
       "      <th></th>\n",
       "      <th>askPrice</th>\n",
       "      <th>mileage</th>\n",
       "      <th>vf_EngineCylinders</th>\n",
       "      <th>vf_EngineHP</th>\n",
       "      <th>vf_Seats</th>\n",
       "      <th>vf_TopSpeedMPH</th>\n",
       "      <th>vf_TransmissionSpeeds</th>\n",
       "      <th>isNew</th>\n",
       "      <th>color</th>\n",
       "      <th>interiorColor</th>\n",
       "      <th>...</th>\n",
       "      <th>vf_ABS</th>\n",
       "      <th>vf_AdaptiveCruiseControl</th>\n",
       "      <th>vf_AirBagLocFront</th>\n",
       "      <th>vf_AirBagLocSide</th>\n",
       "      <th>vf_BodyClass</th>\n",
       "      <th>vf_DriveType</th>\n",
       "      <th>vf_FuelTypePrimary</th>\n",
       "      <th>vf_Make</th>\n",
       "      <th>vf_TractionControl</th>\n",
       "      <th>vf_TransmissionStyle</th>\n",
       "    </tr>\n",
       "  </thead>\n",
       "  <tbody>\n",
       "    <tr>\n",
       "      <th>66866</th>\n",
       "      <td>42125</td>\n",
       "      <td>0</td>\n",
       "      <td>0.0</td>\n",
       "      <td>0.0</td>\n",
       "      <td>0.0</td>\n",
       "      <td>0.0</td>\n",
       "      <td>0.0</td>\n",
       "      <td>1</td>\n",
       "      <td>ocean blue metallic clearcoat</td>\n",
       "      <td>off black</td>\n",
       "      <td>...</td>\n",
       "      <td>NaN</td>\n",
       "      <td>NaN</td>\n",
       "      <td>1st Row (Driver &amp; Passenger)</td>\n",
       "      <td>1st &amp; 2nd Rows</td>\n",
       "      <td>Pickup</td>\n",
       "      <td>4WD/4-Wheel Drive/4x4</td>\n",
       "      <td>Gasoline</td>\n",
       "      <td>FORD</td>\n",
       "      <td>NaN</td>\n",
       "      <td>NaN</td>\n",
       "    </tr>\n",
       "    <tr>\n",
       "      <th>67377</th>\n",
       "      <td>42125</td>\n",
       "      <td>0</td>\n",
       "      <td>0.0</td>\n",
       "      <td>0.0</td>\n",
       "      <td>0.0</td>\n",
       "      <td>0.0</td>\n",
       "      <td>0.0</td>\n",
       "      <td>1</td>\n",
       "      <td>ocean blue metallic clearcoat</td>\n",
       "      <td>off black</td>\n",
       "      <td>...</td>\n",
       "      <td>NaN</td>\n",
       "      <td>NaN</td>\n",
       "      <td>1st Row (Driver &amp; Passenger)</td>\n",
       "      <td>1st &amp; 2nd Rows</td>\n",
       "      <td>Pickup</td>\n",
       "      <td>4WD/4-Wheel Drive/4x4</td>\n",
       "      <td>Gasoline</td>\n",
       "      <td>FORD</td>\n",
       "      <td>NaN</td>\n",
       "      <td>NaN</td>\n",
       "    </tr>\n",
       "    <tr>\n",
       "      <th>152065</th>\n",
       "      <td>42125</td>\n",
       "      <td>15</td>\n",
       "      <td>6.0</td>\n",
       "      <td>310.0</td>\n",
       "      <td>0.0</td>\n",
       "      <td>0.0</td>\n",
       "      <td>0.0</td>\n",
       "      <td>1</td>\n",
       "      <td>Magnetic</td>\n",
       "      <td>charcoal</td>\n",
       "      <td>...</td>\n",
       "      <td>NaN</td>\n",
       "      <td>NaN</td>\n",
       "      <td>1st Row (Driver &amp; Passenger)</td>\n",
       "      <td>1st Row (Driver &amp; Passenger)</td>\n",
       "      <td>Van</td>\n",
       "      <td>NaN</td>\n",
       "      <td>Gasoline</td>\n",
       "      <td>FORD</td>\n",
       "      <td>NaN</td>\n",
       "      <td>NaN</td>\n",
       "    </tr>\n",
       "    <tr>\n",
       "      <th>157713</th>\n",
       "      <td>42125</td>\n",
       "      <td>15</td>\n",
       "      <td>6.0</td>\n",
       "      <td>310.0</td>\n",
       "      <td>0.0</td>\n",
       "      <td>0.0</td>\n",
       "      <td>0.0</td>\n",
       "      <td>1</td>\n",
       "      <td>Magnetic</td>\n",
       "      <td>charcoal</td>\n",
       "      <td>...</td>\n",
       "      <td>NaN</td>\n",
       "      <td>NaN</td>\n",
       "      <td>1st Row (Driver &amp; Passenger)</td>\n",
       "      <td>1st Row (Driver &amp; Passenger)</td>\n",
       "      <td>Van</td>\n",
       "      <td>NaN</td>\n",
       "      <td>Gasoline</td>\n",
       "      <td>FORD</td>\n",
       "      <td>NaN</td>\n",
       "      <td>NaN</td>\n",
       "    </tr>\n",
       "    <tr>\n",
       "      <th>176856</th>\n",
       "      <td>42125</td>\n",
       "      <td>24</td>\n",
       "      <td>4.0</td>\n",
       "      <td>228.0</td>\n",
       "      <td>0.0</td>\n",
       "      <td>0.0</td>\n",
       "      <td>0.0</td>\n",
       "      <td>1</td>\n",
       "      <td>Pulse Orange</td>\n",
       "      <td>Black</td>\n",
       "      <td>...</td>\n",
       "      <td>NaN</td>\n",
       "      <td>NaN</td>\n",
       "      <td>NaN</td>\n",
       "      <td>1st Row (Driver &amp; Passenger)</td>\n",
       "      <td>Sport Utility Vehicle (SUV)/Multi-Purpose Vehi...</td>\n",
       "      <td>NaN</td>\n",
       "      <td>Gasoline</td>\n",
       "      <td>AUDI</td>\n",
       "      <td>NaN</td>\n",
       "      <td>Automatic</td>\n",
       "    </tr>\n",
       "  </tbody>\n",
       "</table>\n",
       "<p>5 rows × 21 columns</p>\n",
       "</div>"
      ],
      "text/plain": [
       "        askPrice  mileage  vf_EngineCylinders  vf_EngineHP  vf_Seats  \\\n",
       "66866      42125        0                 0.0          0.0       0.0   \n",
       "67377      42125        0                 0.0          0.0       0.0   \n",
       "152065     42125       15                 6.0        310.0       0.0   \n",
       "157713     42125       15                 6.0        310.0       0.0   \n",
       "176856     42125       24                 4.0        228.0       0.0   \n",
       "\n",
       "        vf_TopSpeedMPH  vf_TransmissionSpeeds  isNew  \\\n",
       "66866              0.0                    0.0      1   \n",
       "67377              0.0                    0.0      1   \n",
       "152065             0.0                    0.0      1   \n",
       "157713             0.0                    0.0      1   \n",
       "176856             0.0                    0.0      1   \n",
       "\n",
       "                                color interiorColor  ... vf_ABS  \\\n",
       "66866   ocean blue metallic clearcoat     off black  ...    NaN   \n",
       "67377   ocean blue metallic clearcoat     off black  ...    NaN   \n",
       "152065                       Magnetic      charcoal  ...    NaN   \n",
       "157713                       Magnetic      charcoal  ...    NaN   \n",
       "176856                   Pulse Orange         Black  ...    NaN   \n",
       "\n",
       "       vf_AdaptiveCruiseControl             vf_AirBagLocFront  \\\n",
       "66866                       NaN  1st Row (Driver & Passenger)   \n",
       "67377                       NaN  1st Row (Driver & Passenger)   \n",
       "152065                      NaN  1st Row (Driver & Passenger)   \n",
       "157713                      NaN  1st Row (Driver & Passenger)   \n",
       "176856                      NaN                           NaN   \n",
       "\n",
       "                    vf_AirBagLocSide  \\\n",
       "66866                 1st & 2nd Rows   \n",
       "67377                 1st & 2nd Rows   \n",
       "152065  1st Row (Driver & Passenger)   \n",
       "157713  1st Row (Driver & Passenger)   \n",
       "176856  1st Row (Driver & Passenger)   \n",
       "\n",
       "                                             vf_BodyClass  \\\n",
       "66866                                              Pickup   \n",
       "67377                                              Pickup   \n",
       "152065                                                Van   \n",
       "157713                                                Van   \n",
       "176856  Sport Utility Vehicle (SUV)/Multi-Purpose Vehi...   \n",
       "\n",
       "                 vf_DriveType vf_FuelTypePrimary vf_Make vf_TractionControl  \\\n",
       "66866   4WD/4-Wheel Drive/4x4           Gasoline    FORD                NaN   \n",
       "67377   4WD/4-Wheel Drive/4x4           Gasoline    FORD                NaN   \n",
       "152065                    NaN           Gasoline    FORD                NaN   \n",
       "157713                    NaN           Gasoline    FORD                NaN   \n",
       "176856                    NaN           Gasoline    AUDI                NaN   \n",
       "\n",
       "       vf_TransmissionStyle  \n",
       "66866                   NaN  \n",
       "67377                   NaN  \n",
       "152065                  NaN  \n",
       "157713                  NaN  \n",
       "176856            Automatic  \n",
       "\n",
       "[5 rows x 21 columns]"
      ]
     },
     "execution_count": 240,
     "metadata": {},
     "output_type": "execute_result"
    }
   ],
   "source": [
    "Q4readable.head()"
   ]
  },
  {
   "cell_type": "code",
   "execution_count": 241,
   "metadata": {},
   "outputs": [],
   "source": [
    "Q4readable.to_csv('Q4readable.csv', index=False)"
   ]
  },
  {
   "cell_type": "markdown",
   "metadata": {},
   "source": [
    "### Best Data for Each Q"
   ]
  },
  {
   "cell_type": "code",
   "execution_count": 315,
   "metadata": {},
   "outputs": [],
   "source": [
    "def getValCount(col):\n",
    "    valcount = dict(col.value_counts())\n",
    "    valcount.pop(0)\n",
    "    return max(valcount, key=valcount.get)"
   ]
  },
  {
   "cell_type": "code",
   "execution_count": 318,
   "metadata": {},
   "outputs": [],
   "source": [
    "def getBest(Q):\n",
    "    Qbest = {\"askPrice\": Q['askPrice'].mean(),\n",
    "              \"mileage\": Q['mileage'].mean(),\n",
    "              \"vf_EngineCylinders\": Q['vf_EngineCylinders'].mode()[0],\n",
    "              \"vf_EngineHP\": Q['vf_EngineHP'].mean(),\n",
    "              \"vf_Seats\": getValCount(Q['vf_Seats']),\n",
    "              \"vf_TopSpeedMPH\": Q['vf_TopSpeedMPH'].max(),\n",
    "              \"vf_TransmissionSpeeds\": getValCount(Q['vf_TransmissionSpeeds']),\n",
    "              \"isNew\": Q['isNew'].mode()[0],\n",
    "              \"color\": Q['color'].mode()[0],\n",
    "              \"interiorColor\": Q['interiorColor'].mode()[0],\n",
    "              \"brandName\": Q['brandName'].mode()[0],\n",
    "              \"vf_ABS\": Q['vf_ABS'].mode()[0],\n",
    "              \"vf_AdaptiveCruiseControl\": Q['vf_AdaptiveCruiseControl'].mode()[0],\n",
    "              \"vf_AirBagLocFront\": Q['vf_AirBagLocFront'].mode()[0],\n",
    "              \"vf_AirBagLocSide\": Q['vf_AirBagLocSide'].mode()[0],\n",
    "              \"vf_BodyClass\": Q['vf_BodyClass'].mode()[0],\n",
    "              \"vf_DriveType\": Q['vf_DriveType'].mode()[0],\n",
    "              \"vf_FuelTypePrimary\": Q['vf_FuelTypePrimary'].mode()[0],\n",
    "              \"vf_Make\": Q['vf_Make'].mode()[0],\n",
    "              \"vf_TractionControl\": Q['vf_TractionControl'].mode()[0],\n",
    "              \"vf_TransmissionStyle\": Q['vf_TransmissionStyle'].mode()[0],\n",
    "             }\n",
    "    return Qbest\n"
   ]
  },
  {
   "cell_type": "code",
   "execution_count": 319,
   "metadata": {},
   "outputs": [
    {
     "data": {
      "text/plain": [
       "{'askPrice': 7500.0,\n",
       " 'mileage': 64898.46225247525,\n",
       " 'vf_EngineCylinders': 4.0,\n",
       " 'vf_EngineHP': 88.70890822070957,\n",
       " 'vf_Seats': 5.0,\n",
       " 'vf_TopSpeedMPH': 155.0,\n",
       " 'vf_TransmissionSpeeds': 5.0,\n",
       " 'isNew': 0,\n",
       " 'color': 'ocean blue metallic clearcoat',\n",
       " 'interiorColor': 'off black',\n",
       " 'brandName': 'CHEVROLET',\n",
       " 'vf_ABS': 'Standard',\n",
       " 'vf_AdaptiveCruiseControl': 'Optional',\n",
       " 'vf_AirBagLocFront': '1st Row (Driver & Passenger)',\n",
       " 'vf_AirBagLocSide': '1st Row (Driver & Passenger)',\n",
       " 'vf_BodyClass': 'Sedan/Saloon',\n",
       " 'vf_DriveType': '4WD/4-Wheel Drive/4x4',\n",
       " 'vf_FuelTypePrimary': 'Gasoline',\n",
       " 'vf_Make': 'CHEVROLET',\n",
       " 'vf_TractionControl': 'Standard',\n",
       " 'vf_TransmissionStyle': 'Automatic'}"
      ]
     },
     "execution_count": 319,
     "metadata": {},
     "output_type": "execute_result"
    }
   ],
   "source": [
    "getBest(Q1readable)"
   ]
  },
  {
   "cell_type": "code",
   "execution_count": 320,
   "metadata": {},
   "outputs": [
    {
     "data": {
      "text/plain": [
       "{'askPrice': 15988.0,\n",
       " 'mileage': 27864.880590133704,\n",
       " 'vf_EngineCylinders': 4.0,\n",
       " 'vf_EngineHP': 106.70032272936837,\n",
       " 'vf_Seats': 5.0,\n",
       " 'vf_TopSpeedMPH': 155.0,\n",
       " 'vf_TransmissionSpeeds': 6.0,\n",
       " 'isNew': 0,\n",
       " 'color': 'ocean blue metallic clearcoat',\n",
       " 'interiorColor': 'off black',\n",
       " 'brandName': 'FORD',\n",
       " 'vf_ABS': 'Standard',\n",
       " 'vf_AdaptiveCruiseControl': 'Optional',\n",
       " 'vf_AirBagLocFront': '1st Row (Driver & Passenger)',\n",
       " 'vf_AirBagLocSide': '1st Row (Driver & Passenger)',\n",
       " 'vf_BodyClass': 'Sedan/Saloon',\n",
       " 'vf_DriveType': '4x2',\n",
       " 'vf_FuelTypePrimary': 'Gasoline',\n",
       " 'vf_Make': 'FORD',\n",
       " 'vf_TractionControl': 'Standard',\n",
       " 'vf_TransmissionStyle': 'Automatic'}"
      ]
     },
     "execution_count": 320,
     "metadata": {},
     "output_type": "execute_result"
    }
   ],
   "source": [
    "getBest(Q2readable)"
   ]
  },
  {
   "cell_type": "code",
   "execution_count": 321,
   "metadata": {},
   "outputs": [
    {
     "data": {
      "text/plain": [
       "{'askPrice': 25807.0,\n",
       " 'mileage': 862.4305555555555,\n",
       " 'vf_EngineCylinders': 4.0,\n",
       " 'vf_EngineHP': 137.26388888888889,\n",
       " 'vf_Seats': 5.0,\n",
       " 'vf_TopSpeedMPH': 149.0,\n",
       " 'vf_TransmissionSpeeds': 6.0,\n",
       " 'isNew': 1,\n",
       " 'color': 'ocean blue metallic clearcoat',\n",
       " 'interiorColor': 'off black',\n",
       " 'brandName': 'FORD',\n",
       " 'vf_ABS': 'Standard',\n",
       " 'vf_AdaptiveCruiseControl': 'Standard',\n",
       " 'vf_AirBagLocFront': '1st Row (Driver & Passenger)',\n",
       " 'vf_AirBagLocSide': '1st Row (Driver & Passenger)',\n",
       " 'vf_BodyClass': 'Sport Utility Vehicle (SUV)/Multi-Purpose Vehicle (MPV)',\n",
       " 'vf_DriveType': '4WD/4-Wheel Drive/4x4',\n",
       " 'vf_FuelTypePrimary': 'Gasoline',\n",
       " 'vf_Make': 'FORD',\n",
       " 'vf_TractionControl': 'Standard',\n",
       " 'vf_TransmissionStyle': 'Automatic'}"
      ]
     },
     "execution_count": 321,
     "metadata": {},
     "output_type": "execute_result"
    }
   ],
   "source": [
    "getBest(Q3readable)"
   ]
  },
  {
   "cell_type": "code",
   "execution_count": 322,
   "metadata": {},
   "outputs": [
    {
     "data": {
      "text/plain": [
       "{'askPrice': 42125.0,\n",
       " 'mileage': 76.58585858585859,\n",
       " 'vf_EngineCylinders': 6.0,\n",
       " 'vf_EngineHP': 191.67676767676767,\n",
       " 'vf_Seats': 5.0,\n",
       " 'vf_TopSpeedMPH': 133.0,\n",
       " 'vf_TransmissionSpeeds': 8.0,\n",
       " 'isNew': 1,\n",
       " 'color': 'ocean blue metallic clearcoat',\n",
       " 'interiorColor': 'off black',\n",
       " 'brandName': 'FORD',\n",
       " 'vf_ABS': 'Standard',\n",
       " 'vf_AdaptiveCruiseControl': 'Optional',\n",
       " 'vf_AirBagLocFront': '1st Row (Driver & Passenger)',\n",
       " 'vf_AirBagLocSide': '1st Row (Driver & Passenger)',\n",
       " 'vf_BodyClass': 'Sport Utility Vehicle (SUV)/Multi-Purpose Vehicle (MPV)',\n",
       " 'vf_DriveType': '4WD/4-Wheel Drive/4x4',\n",
       " 'vf_FuelTypePrimary': 'Gasoline',\n",
       " 'vf_Make': 'FORD',\n",
       " 'vf_TractionControl': 'Standard',\n",
       " 'vf_TransmissionStyle': 'Automatic'}"
      ]
     },
     "execution_count": 322,
     "metadata": {},
     "output_type": "execute_result"
    }
   ],
   "source": [
    "getBest(Q4readable)"
   ]
  },
  {
   "cell_type": "code",
   "execution_count": null,
   "metadata": {},
   "outputs": [],
   "source": []
  }
 ],
 "metadata": {
  "kernelspec": {
   "display_name": "Python 3 (ipykernel)",
   "language": "python",
   "name": "python3"
  },
  "language_info": {
   "codemirror_mode": {
    "name": "ipython",
    "version": 3
   },
   "file_extension": ".py",
   "mimetype": "text/x-python",
   "name": "python",
   "nbconvert_exporter": "python",
   "pygments_lexer": "ipython3",
   "version": "3.10.2"
  },
  "varInspector": {
   "cols": {
    "lenName": 16,
    "lenType": 16,
    "lenVar": 40
   },
   "kernels_config": {
    "python": {
     "delete_cmd_postfix": "",
     "delete_cmd_prefix": "del ",
     "library": "var_list.py",
     "varRefreshCmd": "print(var_dic_list())"
    },
    "r": {
     "delete_cmd_postfix": ") ",
     "delete_cmd_prefix": "rm(",
     "library": "var_list.r",
     "varRefreshCmd": "cat(var_dic_list()) "
    }
   },
   "position": {
    "height": "488.25px",
    "left": "1184.19px",
    "right": "20px",
    "top": "105px",
    "width": "337.788px"
   },
   "types_to_exclude": [
    "module",
    "function",
    "builtin_function_or_method",
    "instance",
    "_Feature"
   ],
   "window_display": true
  }
 },
 "nbformat": 4,
 "nbformat_minor": 2
}
